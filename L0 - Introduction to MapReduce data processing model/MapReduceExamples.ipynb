{
 "cells": [
  {
   "cell_type": "markdown",
   "metadata": {
    "id": "82OvPKEiEqjc"
   },
   "source": [
    "# Введение в MapReduce модель на Python\n"
   ]
  },
  {
   "cell_type": "code",
   "execution_count": 1,
   "metadata": {
    "id": "JQ2cvXLjICmI"
   },
   "outputs": [],
   "source": [
    "from typing import NamedTuple # requires python 3.6+\n",
    "from typing import Iterator\n",
    "import numpy as np"
   ]
  },
  {
   "cell_type": "code",
   "execution_count": 2,
   "metadata": {
    "id": "yjPHumVwEyEg"
   },
   "outputs": [],
   "source": [
    "def MAP(_, row:NamedTuple):\n",
    "    if (row.gender == 'female'):\n",
    "        yield (row.age, row)\n",
    "    \n",
    "def REDUCE(age:str, rows:Iterator[NamedTuple]):\n",
    "    sum = 0\n",
    "    count = 0\n",
    "    for row in rows:\n",
    "        sum += row.social_contacts\n",
    "        count += 1\n",
    "    if (count > 0):\n",
    "        yield (age, sum/count)\n",
    "    else:\n",
    "        yield (age, 0)"
   ]
  },
  {
   "cell_type": "markdown",
   "metadata": {
    "id": "vBKMgpG_ilaZ"
   },
   "source": [
    "Модель элемента данных"
   ]
  },
  {
   "cell_type": "code",
   "execution_count": 3,
   "metadata": {
    "id": "Rv-XIjhTJPx3"
   },
   "outputs": [],
   "source": [
    "class User(NamedTuple):\n",
    "    id: int\n",
    "    age: str\n",
    "    social_contacts: int\n",
    "    gender: str"
   ]
  },
  {
   "cell_type": "code",
   "execution_count": 4,
   "metadata": {
    "id": "5KV0Ze2vQgu5"
   },
   "outputs": [],
   "source": [
    "input_collection = [\n",
    "    User(id=0, age=55, gender='male', social_contacts=20),\n",
    "    User(id=1, age=25, gender='female', social_contacts=240),\n",
    "    User(id=2, age=25, gender='female', social_contacts=500),\n",
    "    User(id=3, age=33, gender='female', social_contacts=800)\n",
    "]"
   ]
  },
  {
   "cell_type": "markdown",
   "metadata": {
    "id": "YFeqzyZxZIFZ"
   },
   "source": [
    "Функция RECORDREADER моделирует чтение элементов с диска или по сети."
   ]
  },
  {
   "cell_type": "code",
   "execution_count": 5,
   "metadata": {
    "id": "S5HR4E_GQoMJ"
   },
   "outputs": [],
   "source": [
    "def RECORDREADER():\n",
    "    return [(u.id, u) for u in input_collection]"
   ]
  },
  {
   "cell_type": "code",
   "execution_count": 6,
   "metadata": {
    "colab": {
     "base_uri": "https://localhost:8080/",
     "height": 85
    },
    "id": "NeEoWla-ROUy",
    "outputId": "94ca6e0e-4644-4282-acbf-1759d7ba2918"
   },
   "outputs": [
    {
     "data": {
      "text/plain": [
       "[(0, User(id=0, age=55, social_contacts=20, gender='male')),\n",
       " (1, User(id=1, age=25, social_contacts=240, gender='female')),\n",
       " (2, User(id=2, age=25, social_contacts=500, gender='female')),\n",
       " (3, User(id=3, age=33, social_contacts=800, gender='female'))]"
      ]
     },
     "execution_count": 6,
     "metadata": {},
     "output_type": "execute_result"
    }
   ],
   "source": [
    "list(RECORDREADER())"
   ]
  },
  {
   "cell_type": "code",
   "execution_count": 7,
   "metadata": {
    "id": "YB8orgPSZs8M"
   },
   "outputs": [],
   "source": [
    "def flatten(nested_iterable):\n",
    "    for iterable in nested_iterable:\n",
    "        for element in iterable:\n",
    "            yield element"
   ]
  },
  {
   "cell_type": "code",
   "execution_count": 8,
   "metadata": {
    "colab": {
     "base_uri": "https://localhost:8080/",
     "height": 68
    },
    "id": "74oyvDLaRmd5",
    "outputId": "c6147702-7153-47c7-a574-d5fe6abe29a8"
   },
   "outputs": [
    {
     "data": {
      "text/plain": [
       "[(25, User(id=1, age=25, social_contacts=240, gender='female')),\n",
       " (25, User(id=2, age=25, social_contacts=500, gender='female')),\n",
       " (33, User(id=3, age=33, social_contacts=800, gender='female'))]"
      ]
     },
     "execution_count": 8,
     "metadata": {},
     "output_type": "execute_result"
    }
   ],
   "source": [
    "map_output = flatten(map(lambda x: MAP(*x), RECORDREADER()))\n",
    "map_output = list(map_output) # materialize\n",
    "map_output"
   ]
  },
  {
   "cell_type": "code",
   "execution_count": 9,
   "metadata": {
    "id": "8ncYDJ3-VzDn"
   },
   "outputs": [],
   "source": [
    "def groupbykey(iterable):\n",
    "    t = {}\n",
    "    for (k2, v2) in iterable:\n",
    "        t[k2] = t.get(k2, []) + [v2]\n",
    "    return t.items()"
   ]
  },
  {
   "cell_type": "code",
   "execution_count": 10,
   "metadata": {
    "colab": {
     "base_uri": "https://localhost:8080/",
     "height": 85
    },
    "id": "cKzY_6COWOA2",
    "outputId": "e6791b12-e409-47e9-bcd4-e9f8ca8611bd"
   },
   "outputs": [
    {
     "data": {
      "text/plain": [
       "[(25,\n",
       "  [User(id=1, age=25, social_contacts=240, gender='female'),\n",
       "   User(id=2, age=25, social_contacts=500, gender='female')]),\n",
       " (33, [User(id=3, age=33, social_contacts=800, gender='female')])]"
      ]
     },
     "execution_count": 10,
     "metadata": {},
     "output_type": "execute_result"
    }
   ],
   "source": [
    "shuffle_output = groupbykey(map_output)\n",
    "shuffle_output = list(shuffle_output)\n",
    "shuffle_output"
   ]
  },
  {
   "cell_type": "code",
   "execution_count": 11,
   "metadata": {
    "colab": {
     "base_uri": "https://localhost:8080/",
     "height": 34
    },
    "id": "NlA7lkDDYL0t",
    "outputId": "6b25d03f-5c92-4f3b-f500-6d70acd598b7"
   },
   "outputs": [
    {
     "data": {
      "text/plain": [
       "[(25, 370.0), (33, 800.0)]"
      ]
     },
     "execution_count": 11,
     "metadata": {},
     "output_type": "execute_result"
    }
   ],
   "source": [
    "reduce_output = flatten(map(lambda x: REDUCE(*x), shuffle_output))\n",
    "reduce_output = list(reduce_output)\n",
    "reduce_output"
   ]
  },
  {
   "cell_type": "markdown",
   "metadata": {
    "id": "xf6qhHEtd6bI"
   },
   "source": [
    "Все действия одним конвейером!"
   ]
  },
  {
   "cell_type": "code",
   "execution_count": 12,
   "metadata": {
    "colab": {
     "base_uri": "https://localhost:8080/",
     "height": 34
    },
    "id": "dZaQGYxCdpw5",
    "outputId": "3f5c6425-e5c5-49d2-b2cd-ce58a9acc33c"
   },
   "outputs": [
    {
     "data": {
      "text/plain": [
       "[(25, 370.0), (33, 800.0)]"
      ]
     },
     "execution_count": 12,
     "metadata": {},
     "output_type": "execute_result"
    }
   ],
   "source": [
    "list(flatten(map(lambda x: REDUCE(*x), groupbykey(flatten(map(lambda x: MAP(*x), RECORDREADER()))))))"
   ]
  },
  {
   "cell_type": "markdown",
   "metadata": {
    "id": "Vq3EWRIpwSiJ"
   },
   "source": [
    "# **MapReduce**\n",
    "Выделим общую для всех пользователей часть системы в отдельную функцию высшего порядка. Это наиболее простая модель MapReduce, без учёта распределённого хранения данных. \n",
    "\n",
    "Пользователь для решения своей задачи реализует RECORDREADER, MAP, REDUCE."
   ]
  },
  {
   "cell_type": "code",
   "execution_count": 13,
   "metadata": {
    "id": "V1PZeQMwwVjc"
   },
   "outputs": [],
   "source": [
    "def flatten(nested_iterable):\n",
    "    for iterable in nested_iterable:\n",
    "        for element in iterable:\n",
    "            yield element\n",
    "\n",
    "def groupbykey(iterable):\n",
    "    t = {}\n",
    "    for (k2, v2) in iterable:\n",
    "        t[k2] = t.get(k2, []) + [v2]\n",
    "    return t.items()\n",
    "\n",
    "def MapReduce(RECORDREADER, MAP, REDUCE):\n",
    "    return flatten(map(lambda x: REDUCE(*x), groupbykey(flatten(map(lambda x: MAP(*x), RECORDREADER())))))"
   ]
  },
  {
   "cell_type": "markdown",
   "metadata": {
    "id": "iFIVrimep678"
   },
   "source": [
    "## Спецификация MapReduce\n",
    "\n",
    "\n",
    "\n",
    "```\n",
    "f (k1, v1) -> (k2,v2)*\n",
    "g (k2, v2*) -> (k3,v3)*\n",
    " \n",
    "mapreduce ((k1,v1)*) -> (k3,v3)*\n",
    "groupby ((k2,v2)*) -> (k2,v2*)*\n",
    "flatten (e2**) -> e2*\n",
    " \n",
    "mapreduce .map(f).flatten.groupby(k2).map(g).flatten\n",
    "```\n",
    "\n",
    "\n"
   ]
  },
  {
   "cell_type": "markdown",
   "metadata": {
    "id": "QtTFyqke3KGe"
   },
   "source": [
    "# Примеры"
   ]
  },
  {
   "cell_type": "markdown",
   "metadata": {
    "id": "BNhh5763w5Vn"
   },
   "source": [
    "## SQL "
   ]
  },
  {
   "cell_type": "code",
   "execution_count": 14,
   "metadata": {
    "colab": {
     "base_uri": "https://localhost:8080/",
     "height": 34
    },
    "id": "QkyurnvGxBGk",
    "outputId": "84761282-d2ba-435a-e8d7-a85150730e10"
   },
   "outputs": [
    {
     "data": {
      "text/plain": [
       "[(25, 370.0), (33, 800.0)]"
      ]
     },
     "execution_count": 14,
     "metadata": {},
     "output_type": "execute_result"
    }
   ],
   "source": [
    "from typing import NamedTuple # requires python 3.6+\n",
    "from typing import Iterator\n",
    "\n",
    "class User(NamedTuple):\n",
    "    id: int\n",
    "    age: str\n",
    "    social_contacts: int\n",
    "    gender: str\n",
    "    \n",
    "input_collection = [\n",
    "    User(id=0, age=55, gender='male', social_contacts=20),\n",
    "    User(id=1, age=25, gender='female', social_contacts=240),\n",
    "    User(id=2, age=25, gender='female', social_contacts=500),\n",
    "    User(id=3, age=33, gender='female', social_contacts=800)\n",
    "]\n",
    "\n",
    "def MAP(_, row:NamedTuple):\n",
    "    if (row.gender == 'female'):\n",
    "       yield (row.age, row)\n",
    "    \n",
    "def REDUCE(age:str, rows:Iterator[NamedTuple]):\n",
    "    sum = 0\n",
    "    count = 0\n",
    "    for row in rows:\n",
    "        sum += row.social_contacts\n",
    "        count += 1\n",
    "    if (count > 0):\n",
    "        yield (age, sum/count)\n",
    "    else:\n",
    "        yield (age, 0)\n",
    " \n",
    "def RECORDREADER():\n",
    "    return [(u.id, u) for u in input_collection]\n",
    "\n",
    "output = MapReduce(RECORDREADER, MAP, REDUCE)\n",
    "output = list(output)\n",
    "output"
   ]
  },
  {
   "cell_type": "markdown",
   "metadata": {
    "id": "kNKYIeerx0nY"
   },
   "source": [
    "## Matrix-Vector multiplication "
   ]
  },
  {
   "cell_type": "code",
   "execution_count": 15,
   "metadata": {
    "colab": {
     "base_uri": "https://localhost:8080/",
     "height": 102
    },
    "id": "rwcntRcCyi1V",
    "outputId": "606737ab-6b55-455c-931f-4fc45155f8a9"
   },
   "outputs": [
    {
     "data": {
      "text/plain": [
       "[(0, 1.417207055924178),\n",
       " (1, 1.417207055924178),\n",
       " (2, 1.417207055924178),\n",
       " (3, 1.417207055924178),\n",
       " (4, 1.417207055924178)]"
      ]
     },
     "execution_count": 15,
     "metadata": {},
     "output_type": "execute_result"
    }
   ],
   "source": [
    "from typing import Iterator\n",
    "import numpy as np\n",
    "\n",
    "mat = np.ones((5,4))\n",
    "vec = np.random.rand(4) # in-memory vector in all map tasks\n",
    "\n",
    "def MAP(coordinates:(int, int), value:int):\n",
    "    i, j = coordinates\n",
    "    yield (i, value*vec[j])\n",
    " \n",
    "def REDUCE(i:int, products:Iterator[NamedTuple]):\n",
    "    sum = 0\n",
    "    for p in products:\n",
    "        sum += p\n",
    "    yield (i, sum)\n",
    "\n",
    "def RECORDREADER():\n",
    "    for i in range(mat.shape[0]):\n",
    "        for j in range(mat.shape[1]):\n",
    "            yield ((i, j), mat[i,j])\n",
    "      \n",
    "output = MapReduce(RECORDREADER, MAP, REDUCE)\n",
    "output = list(output)\n",
    "output"
   ]
  },
  {
   "cell_type": "markdown",
   "metadata": {
    "id": "ruZREYdi2o4O"
   },
   "source": [
    "## Inverted index "
   ]
  },
  {
   "cell_type": "code",
   "execution_count": 16,
   "metadata": {
    "colab": {
     "base_uri": "https://localhost:8080/",
     "height": 102
    },
    "id": "vt9H9Alf3TYv",
    "outputId": "51aeffc9-e111-4607-bd84-cfcc7b56f238"
   },
   "outputs": [
    {
     "data": {
      "text/plain": [
       "[('is', ['0', '1', '2']),\n",
       " ('what', ['0', '1']),\n",
       " ('it', ['0', '1', '2']),\n",
       " ('banana', ['2']),\n",
       " ('a', ['2'])]"
      ]
     },
     "execution_count": 16,
     "metadata": {},
     "output_type": "execute_result"
    }
   ],
   "source": [
    "from typing import Iterator\n",
    "\n",
    "d1 = \"it is what it is\"\n",
    "d2 = \"what is it\"\n",
    "d3 = \"it is a banana\"\n",
    "documents = [d1, d2, d3]\n",
    "\n",
    "def RECORDREADER():\n",
    "    for (docid, document) in enumerate(documents):\n",
    "        yield (\"{}\".format(docid), document)\n",
    "      \n",
    "def MAP(docId:str, body:str):\n",
    "    for word in set(body.split(' ')):\n",
    "       yield (word, docId)\n",
    " \n",
    "def REDUCE(word:str, docIds:Iterator[str]):\n",
    "    yield (word, sorted(docIds))\n",
    "\n",
    "output = MapReduce(RECORDREADER, MAP, REDUCE)\n",
    "output = list(output)\n",
    "output"
   ]
  },
  {
   "cell_type": "markdown",
   "metadata": {
    "id": "R7az-6DA6qr2"
   },
   "source": [
    "## WordCount"
   ]
  },
  {
   "cell_type": "code",
   "execution_count": 17,
   "metadata": {
    "colab": {
     "base_uri": "https://localhost:8080/",
     "height": 34
    },
    "id": "dN-nbtgG6uYG",
    "outputId": "24117576-7931-401d-a581-28e246b23453"
   },
   "outputs": [
    {
     "data": {
      "text/plain": [
       "[('', 3), ('it', 9), ('is', 9), ('what', 5), ('a', 1), ('banana', 1)]"
      ]
     },
     "execution_count": 17,
     "metadata": {},
     "output_type": "execute_result"
    }
   ],
   "source": [
    "from typing import Iterator\n",
    "\n",
    "d1 = \"\"\"\n",
    "it is what it is\n",
    "it is what it is\n",
    "it is what it is\"\"\"\n",
    "d2 = \"\"\"\n",
    "what is it\n",
    "what is it\"\"\"\n",
    "d3 = \"\"\"\n",
    "it is a banana\"\"\"\n",
    "documents = [d1, d2, d3]\n",
    "\n",
    "def RECORDREADER():\n",
    "    for (docid, document) in enumerate(documents):\n",
    "        for (lineid, line) in enumerate(document.split('\\n')):\n",
    "            yield (\"{}:{}\".format(docid,lineid), line)\n",
    "\n",
    "def MAP(docId:str, line:str):\n",
    "    for word in line.split(\" \"):  \n",
    "        yield (word, 1)\n",
    " \n",
    "def REDUCE(word:str, counts:Iterator[int]):\n",
    "    sum = 0\n",
    "    for c in counts:\n",
    "        sum += c\n",
    "    yield (word, sum)\n",
    "\n",
    "output = MapReduce(RECORDREADER, MAP, REDUCE)\n",
    "output = list(output)\n",
    "output"
   ]
  },
  {
   "cell_type": "markdown",
   "metadata": {
    "id": "h-jRAcYCAkkk"
   },
   "source": [
    "# MapReduce Distributed\n",
    "\n",
    "Добавляется в модель фабрика RECORDREARER-ов --- INPUTFORMAT, функция распределения промежуточных результатов по партициям PARTITIONER, и функция COMBINER для частичной аггрегации промежуточных результатов до распределения по новым партициям."
   ]
  },
  {
   "cell_type": "code",
   "execution_count": 18,
   "metadata": {
    "id": "nw-b-xJsApgW"
   },
   "outputs": [],
   "source": [
    "def flatten(nested_iterable):\n",
    "    for iterable in nested_iterable:\n",
    "        for element in iterable:\n",
    "            yield element\n",
    "\n",
    "def groupbykey(iterable):\n",
    "    t = {}\n",
    "    for (k2, v2) in iterable:\n",
    "        t[k2] = t.get(k2, []) + [v2]\n",
    "    return t.items()\n",
    "      \n",
    "def groupbykey_distributed(map_partitions, PARTITIONER):\n",
    "    global reducers\n",
    "    partitions = [dict() for _ in range(reducers)]\n",
    "    for map_partition in map_partitions:\n",
    "        for (k2, v2) in map_partition:\n",
    "            p = partitions[PARTITIONER(k2)]\n",
    "            p[k2] = p.get(k2, []) + [v2]\n",
    "    return [(partition_id, sorted(partition.items(), key=lambda x: x[0])) for (partition_id, partition) in enumerate(partitions)]\n",
    " \n",
    "def PARTITIONER(obj):\n",
    "    global reducers\n",
    "    return hash(obj) % reducers\n",
    "  \n",
    "def MapReduceDistributed(INPUTFORMAT, MAP, REDUCE, PARTITIONER=PARTITIONER, COMBINER=None):\n",
    "    map_partitions = map(lambda record_reader: flatten(map(lambda k1v1: MAP(*k1v1), record_reader)), INPUTFORMAT())\n",
    "    if COMBINER != None:\n",
    "        map_partitions = map(lambda map_partition: flatten(map(lambda k2v2: COMBINER(*k2v2), groupbykey(map_partition))), map_partitions)\n",
    "    reduce_partitions = groupbykey_distributed(map_partitions, PARTITIONER) # shuffle\n",
    "    reduce_outputs = map(lambda reduce_partition: (reduce_partition[0], flatten(map(lambda reduce_input_group: REDUCE(*reduce_input_group), reduce_partition[1]))), reduce_partitions)\n",
    "  \n",
    "    print(\"{} key-value pairs were sent over a network.\".format(sum([len(vs) for (k,vs) in flatten([partition for (partition_id, partition) in reduce_partitions])])))\n",
    "    return reduce_outputs"
   ]
  },
  {
   "cell_type": "markdown",
   "metadata": {
    "id": "kxirlf3XqZxY"
   },
   "source": [
    "## Спецификация MapReduce Distributed\n",
    "\n",
    "\n",
    "```\n",
    "f (k1, v1) -> (k2,v2)*\n",
    "g (k2, v2*) -> (k3,v3)*\n",
    " \n",
    "e1 (k1, v1)\n",
    "e2 (k2, v2)\n",
    "partition1 (k2, v2)*\n",
    "partition2 (k2, v2*)*\n",
    " \n",
    "flatmap (e1->e2*, e1*) -> partition1*\n",
    "groupby (partition1*) -> partition2*\n",
    "\n",
    "mapreduce ((k1,v1)*) -> (k3,v3)*\n",
    "mapreduce .flatmap(f).groupby(k2).flatmap(g)\n",
    "```\n",
    "\n"
   ]
  },
  {
   "cell_type": "markdown",
   "metadata": {
    "id": "CWYw_CpbbY3C"
   },
   "source": [
    "## WordCount "
   ]
  },
  {
   "cell_type": "code",
   "execution_count": 19,
   "metadata": {
    "colab": {
     "base_uri": "https://localhost:8080/",
     "height": 68
    },
    "id": "uR_zfGFkMZlp",
    "outputId": "c8d46167-473d-43b9-881a-2396991b3731"
   },
   "outputs": [
    {
     "name": "stdout",
     "output_type": "stream",
     "text": [
      "56 key-value pairs were sent over a network.\n"
     ]
    },
    {
     "data": {
      "text/plain": [
       "[(0, [('', 6), ('banana', 2), ('is', 18), ('it', 18), ('what', 10)]),\n",
       " (1, [('a', 2)])]"
      ]
     },
     "execution_count": 19,
     "metadata": {},
     "output_type": "execute_result"
    }
   ],
   "source": [
    "from typing import Iterator\n",
    "import numpy as np\n",
    "\n",
    "d1 = \"\"\"\n",
    "it is what it is\n",
    "it is what it is\n",
    "it is what it is\"\"\"\n",
    "d2 = \"\"\"\n",
    "what is it\n",
    "what is it\"\"\"\n",
    "d3 = \"\"\"\n",
    "it is a banana\"\"\"\n",
    "documents = [d1, d2, d3, d1, d2, d3]\n",
    "\n",
    "maps = 3\n",
    "reducers = 2\n",
    "\n",
    "def INPUTFORMAT():\n",
    "    global maps\n",
    "  \n",
    "    def RECORDREADER(split):\n",
    "        for (docid, document) in enumerate(split):\n",
    "            for (lineid, line) in enumerate(document.split('\\n')):\n",
    "                yield (\"{}:{}\".format(docid,lineid), line)\n",
    "      \n",
    "    split_size =  int(np.ceil(len(documents)/maps))\n",
    "    for i in range(0, len(documents), split_size):\n",
    "        yield RECORDREADER(documents[i:i+split_size])\n",
    "\n",
    "def MAP(docId:str, line:str):\n",
    "    for word in line.split(\" \"):  \n",
    "        yield (word, 1)\n",
    " \n",
    "def REDUCE(word:str, counts:Iterator[int]):\n",
    "    sum = 0\n",
    "    for c in counts:\n",
    "        sum += c\n",
    "    yield (word, sum)\n",
    "  \n",
    "# try to set COMBINER=REDUCER and look at the number of values sent over the network \n",
    "partitioned_output = MapReduceDistributed(INPUTFORMAT, MAP, REDUCE, COMBINER=None) \n",
    "partitioned_output = [(partition_id, list(partition)) for (partition_id, partition) in partitioned_output]\n",
    "partitioned_output"
   ]
  },
  {
   "cell_type": "markdown",
   "metadata": {
    "id": "gCJGx8IQ87xS"
   },
   "source": [
    "## TeraSort"
   ]
  },
  {
   "cell_type": "code",
   "execution_count": 20,
   "metadata": {
    "colab": {
     "base_uri": "https://localhost:8080/",
     "height": 578
    },
    "id": "P2v8v1v_8_YR",
    "outputId": "e0987c25-9757-46cb-8e55-d5d2adfbee2b"
   },
   "outputs": [
    {
     "name": "stdout",
     "output_type": "stream",
     "text": [
      "30 key-value pairs were sent over a network.\n"
     ]
    },
    {
     "data": {
      "text/plain": [
       "[(0,\n",
       "  [(None, 0.055868946742893),\n",
       "   (None, 0.07176896949085909),\n",
       "   (None, 0.13631409797518024),\n",
       "   (None, 0.14046107455920043),\n",
       "   (None, 0.15461669121097532),\n",
       "   (None, 0.19481905321649795),\n",
       "   (None, 0.2574237480179338),\n",
       "   (None, 0.2747488942942312),\n",
       "   (None, 0.3596527877710456),\n",
       "   (None, 0.4510391983526313),\n",
       "   (None, 0.4691399568982142),\n",
       "   (None, 0.4691578072642112),\n",
       "   (None, 0.4728884820521265)]),\n",
       " (1,\n",
       "  [(None, 0.5082693472475383),\n",
       "   (None, 0.5442857143984235),\n",
       "   (None, 0.5446894437501602),\n",
       "   (None, 0.5644964376288164),\n",
       "   (None, 0.5691281522175504),\n",
       "   (None, 0.7306899718421087),\n",
       "   (None, 0.7421973489558943),\n",
       "   (None, 0.7550311311855304),\n",
       "   (None, 0.7631707315381367),\n",
       "   (None, 0.7638074698681306),\n",
       "   (None, 0.7831751379170145),\n",
       "   (None, 0.7930112951197739),\n",
       "   (None, 0.8014465067154266),\n",
       "   (None, 0.809689181511213),\n",
       "   (None, 0.927798788603381),\n",
       "   (None, 0.9847751570830034),\n",
       "   (None, 0.9894142943106486)])]"
      ]
     },
     "execution_count": 20,
     "metadata": {},
     "output_type": "execute_result"
    }
   ],
   "source": [
    "import numpy as np\n",
    "\n",
    "input_values = np.random.rand(30)\n",
    "maps = 3\n",
    "reducers = 2\n",
    "min_value = 0.0\n",
    "max_value = 1.0\n",
    "\n",
    "def INPUTFORMAT():\n",
    "    global maps\n",
    "  \n",
    "    def RECORDREADER(split):\n",
    "        for value in split:\n",
    "            yield (value, None)\n",
    "      \n",
    "    split_size =  int(np.ceil(len(input_values)/maps))\n",
    "    for i in range(0, len(input_values), split_size):\n",
    "        yield RECORDREADER(input_values[i:i+split_size])\n",
    "    \n",
    "def MAP(value:int, _):\n",
    "    yield (value, None)\n",
    "  \n",
    "def PARTITIONER(key):\n",
    "    global reducers\n",
    "    global max_value\n",
    "    global min_value\n",
    "    bucket_size = (max_value-min_value)/reducers\n",
    "    bucket_id = 0\n",
    "    while((key>(bucket_id+1)*bucket_size) and ((bucket_id+1)*bucket_size<max_value)):\n",
    "        bucket_id += 1\n",
    "    return bucket_id\n",
    "\n",
    "def REDUCE(value:int, _):\n",
    "    yield (None,value)\n",
    "  \n",
    "partitioned_output = MapReduceDistributed(INPUTFORMAT, MAP, REDUCE, COMBINER=None, PARTITIONER=PARTITIONER)\n",
    "partitioned_output = [(partition_id, list(partition)) for (partition_id, partition) in partitioned_output]\n",
    "partitioned_output"
   ]
  },
  {
   "cell_type": "markdown",
   "metadata": {
    "id": "Iy65YJTH99iT"
   },
   "source": [
    "# Упражнения\n",
    "Упражнения взяты из Rajaraman A., Ullman J. D. Mining of massive datasets. – Cambridge University Press, 2011.\n",
    "\n",
    "\n",
    "Для выполнения заданий переопределите функции RECORDREADER, MAP, REDUCE. Для модели распределённой системы может потребоваться переопределение функций PARTITION и COMBINER."
   ]
  },
  {
   "cell_type": "markdown",
   "metadata": {
    "id": "cfvAeZm3S8S8"
   },
   "source": [
    "### Максимальное значение ряда\n",
    "\n",
    "Разработайте MapReduce алгоритм, который находит максимальное число входного списка чисел."
   ]
  },
  {
   "cell_type": "code",
   "execution_count": 21,
   "metadata": {
    "id": "3GRA1JR-Tkbg"
   },
   "outputs": [
    {
     "name": "stdout",
     "output_type": "stream",
     "text": [
      "295\n"
     ]
    }
   ],
   "source": [
    "import random\n",
    "\n",
    "n = 150\n",
    "\n",
    "def MAP(key, value):\n",
    "    yield (0, value)\n",
    "\n",
    "def REDUCE(key, row):\n",
    "    yield max(row)\n",
    "\n",
    "def RECORDREADER():\n",
    "    return [(i, random.randint(0, 2 * n)) for i in range(n)]\n",
    "    \n",
    "print(*MapReduce(RECORDREADER, MAP, REDUCE))"
   ]
  },
  {
   "cell_type": "markdown",
   "metadata": {
    "id": "k86bXnqZTk-U"
   },
   "source": [
    "### Арифметическое среднее\n",
    "\n",
    "Разработайте MapReduce алгоритм, который находит арифметическое среднее.\n",
    "\n",
    "$$\\overline{X} = \\frac{1}{n}\\sum_{i=0}^{n} x_i$$\n"
   ]
  },
  {
   "cell_type": "code",
   "execution_count": 22,
   "metadata": {
    "id": "MPoY5pkfUNZf"
   },
   "outputs": [
    {
     "name": "stdout",
     "output_type": "stream",
     "text": [
      "151.08\n"
     ]
    }
   ],
   "source": [
    "def MAP(key, value):\n",
    "    yield (1, value)\n",
    "\n",
    "def REDUCE(key, row):\n",
    "    yield sum(row) / len(row)\n",
    "\n",
    "print(*MapReduce(RECORDREADER, MAP, REDUCE))"
   ]
  },
  {
   "cell_type": "markdown",
   "metadata": {
    "id": "xanzszhsIlLe"
   },
   "source": [
    "### GroupByKey на основе сортировки\n",
    "\n",
    "Реализуйте groupByKey на основе сортировки, проверьте его работу на примерах"
   ]
  },
  {
   "cell_type": "code",
   "execution_count": 23,
   "metadata": {
    "id": "hQPn3USsIkEC"
   },
   "outputs": [
    {
     "name": "stdout",
     "output_type": "stream",
     "text": [
      "dict_items([(1, [4, 11, 11, 15, 18, 20, 23, 24, 26, 27, 30, 30, 30, 33, 34, 36, 36, 37, 40, 40])])\n"
     ]
    }
   ],
   "source": [
    "n = 20\n",
    "\n",
    "def groupbykey_sort(iterable):\n",
    "    t = {}\n",
    "    for (k2, v2) in iterable:\n",
    "        t[k2] = t.get(k2, []) + [v2]\n",
    "    for k2 in t:\n",
    "        t[k2] = sorted(t[k2])\n",
    "    return t.items()\n",
    "\n",
    "print(groupbykey_sort(flatten(map(lambda x: MAP(*x), RECORDREADER()))))"
   ]
  },
  {
   "cell_type": "markdown",
   "metadata": {
    "id": "5SgEjCZyGnu6"
   },
   "source": [
    "### Drop duplicates (set construction, unique elements, distinct)\n",
    "\n",
    "Реализуйте распределённую операцию исключения дубликатов"
   ]
  },
  {
   "cell_type": "code",
   "execution_count": 24,
   "metadata": {
    "id": "okjbyApjGhMt"
   },
   "outputs": [
    {
     "name": "stdout",
     "output_type": "stream",
     "text": [
      "[7, 124, 153, 18, 188, 247, 66, 134, 25, 1, 15, 104, 101, 24, 40, 182, 30, 180, 109, 138, 197, 95, 133, 206, 139, 249, 0, 282, 115, 193, 5, 112, 120, 212, 48, 74, 284, 19, 148, 142, 262, 145, 161, 274, 162, 67, 261, 174, 248, 20, 80, 83, 31, 152, 278, 170, 155, 165, 257, 258, 41, 23, 250, 59, 177, 6, 221, 125, 265, 10, 102, 209, 26, 238, 151, 171, 87, 131, 156, 122, 42, 123, 194, 91, 89, 128, 164, 271, 35, 291, 181, 299, 149, 239, 105, 211, 63, 129, 192, 98, 214, 185, 219, 159, 52, 118, 84, 294, 2, 251, 130, 208, 172, 49, 32, 108]\n",
      "False\n"
     ]
    }
   ],
   "source": [
    "n = 150\n",
    "\n",
    "def MAP(key, value):\n",
    "    yield (value, value)\n",
    "\n",
    "def REDUCE(key, rows):\n",
    "    yield key\n",
    "    \n",
    "lst = list(MapReduce(RECORDREADER, MAP, REDUCE))\n",
    "print(lst)\n",
    "print(len(lst) != len(set(lst)))"
   ]
  },
  {
   "cell_type": "markdown",
   "metadata": {
    "id": "e7sRGoTXuJze"
   },
   "source": [
    "# Операторы реляционной алгебры\n",
    "### Selection (Выборка)\n",
    "\n",
    "**The Map Function**: Для  каждого кортежа $t \\in R$ вычисляется истинность предиката $C$. В случае истины создаётся пара ключ-значение $(t, t)$. В паре ключ и значение одинаковы, равны $t$.\n",
    "\n",
    "**The Reduce Function:** Роль функции Reduce выполняет функция идентичности, которая возвращает то же значение, что получила на вход.\n",
    "\n"
   ]
  },
  {
   "cell_type": "code",
   "execution_count": 25,
   "metadata": {
    "id": "4nKIKe59uIfc"
   },
   "outputs": [
    {
     "data": {
      "text/plain": [
       "[User(id=0, age=55, social_contacts=20, gender='male'),\n",
       " User(id=1, age=25, social_contacts=240, gender='female'),\n",
       " User(id=3, age=33, social_contacts=800, gender='male')]"
      ]
     },
     "execution_count": 25,
     "metadata": {},
     "output_type": "execute_result"
    }
   ],
   "source": [
    "input_collection = [\n",
    "    User(id=0, age=55, gender='male', social_contacts=20),\n",
    "    User(id=1, age=25, gender='female', social_contacts=240),\n",
    "    User(id=2, age=22, gender='female', social_contacts=500),\n",
    "    User(id=3, age=33, gender='male', social_contacts=800),\n",
    "    User(id=4, age=12, gender='female', social_contacts=1020)\n",
    "]\n",
    "\n",
    "def MAP(key, value):\n",
    "    if value.age > 22:\n",
    "        yield (value, value)\n",
    "\n",
    "def REDUCE(key, row):\n",
    "    yield row\n",
    "\n",
    "def RECORDREADER():\n",
    "    return [(user.id, user) for user in input_collection]\n",
    "\n",
    "res = list(MapReduce(RECORDREADER, MAP, REDUCE))\n",
    "list(map(lambda x: x[0], sorted(res)))"
   ]
  },
  {
   "cell_type": "markdown",
   "metadata": {
    "id": "w27Ca-_Ku85V"
   },
   "source": [
    "### Projection (Проекция)\n",
    "\n",
    "Проекция на множество атрибутов $S$.\n",
    "\n",
    "**The Map Function:** Для каждого кортежа $t \\in R$ создайте кортеж $t′$, исключая  из $t$ те значения, атрибуты которых не принадлежат  $S$. Верните пару $(t′, t′)$.\n",
    "\n",
    "**The Reduce Function:** Для каждого ключа $t′$, созданного любой Map задачей, вы получаете одну или несколько пар $(t′, t′)$. Reduce функция преобразует $(t′, [t′, t′, . . . , t′])$ в $(t′, t′)$, так, что для ключа $t′$ возвращается одна пара  $(t′, t′)$."
   ]
  },
  {
   "cell_type": "code",
   "execution_count": 26,
   "metadata": {
    "id": "BEvuY4GqvhS6"
   },
   "outputs": [
    {
     "data": {
      "text/plain": [
       "[(55, 55), (25, 25), (22, 22), (33, 33), (12, 12)]"
      ]
     },
     "execution_count": 26,
     "metadata": {},
     "output_type": "execute_result"
    }
   ],
   "source": [
    "def MAP(key, value):\n",
    "    yield (value.age, value.age)\n",
    "\n",
    "def REDUCE(key, rows):\n",
    "    yield (key, key)\n",
    "\n",
    "list(MapReduce(RECORDREADER, MAP, REDUCE))"
   ]
  },
  {
   "cell_type": "markdown",
   "metadata": {
    "id": "7gau6lKXvn2R"
   },
   "source": [
    "### Union (Объединение)\n",
    "\n",
    "**The Map Function:** Превратите каждый входной кортеж $t$ в пару ключ-значение $(t, t)$.\n",
    "\n",
    "**The Reduce Function:** С каждым ключом $t$ будет ассоциировано одно или два значений. В обоих случаях создайте $(t, t)$ в качестве выходного значения."
   ]
  },
  {
   "cell_type": "code",
   "execution_count": 27,
   "metadata": {
    "id": "Sns7a5agv3nw"
   },
   "outputs": [
    {
     "data": {
      "text/plain": [
       "[(User(id=0, age=55, social_contacts=20, gender='male'),\n",
       "  User(id=0, age=55, social_contacts=20, gender='male')),\n",
       " (User(id=2, age=25, social_contacts=240, gender='male'),\n",
       "  User(id=2, age=25, social_contacts=240, gender='male')),\n",
       " (User(id=4, age=17, social_contacts=500, gender='female'),\n",
       "  User(id=4, age=17, social_contacts=500, gender='female')),\n",
       " (User(id=5, age=40, social_contacts=800, gender='male'),\n",
       "  User(id=5, age=40, social_contacts=800, gender='male')),\n",
       " (User(id=3, age=17, social_contacts=500, gender='female'),\n",
       "  User(id=3, age=17, social_contacts=500, gender='female'))]"
      ]
     },
     "execution_count": 27,
     "metadata": {},
     "output_type": "execute_result"
    }
   ],
   "source": [
    "input_collection_1 = [\n",
    "    User(id=0, age=55, gender='male', social_contacts=20),\n",
    "    User(id=2, age=25, gender='male', social_contacts=240),\n",
    "    User(id=4, age=17, gender='female', social_contacts=500),\n",
    "    User(id=5, age=40, gender='male', social_contacts=800)\n",
    "]\n",
    "input_collection_2 = [\n",
    "    User(id=2, age=25, gender='male', social_contacts=240),\n",
    "    User(id=3, age=17, gender='female', social_contacts=500),\n",
    "    User(id=5, age=40, gender='male', social_contacts=800),\n",
    "]\n",
    "\n",
    "def MAP(key, value):\n",
    "    yield (value, value)\n",
    "\n",
    "def REDUCE(key, row):\n",
    "    yield (key, key)\n",
    "\n",
    "def RECORDREADER():\n",
    "    return [(user.id, user) for user in input_collection_1 + input_collection_2]\n",
    "\n",
    "list(MapReduce(RECORDREADER, MAP, REDUCE))\n"
   ]
  },
  {
   "cell_type": "markdown",
   "metadata": {
    "id": "dQ8TuEbjv4J8"
   },
   "source": [
    "### Intersection (Пересечение)\n",
    "\n",
    "**The Map Function:** Превратите каждый кортеж $t$ в пары ключ-значение $(t, t)$.\n",
    "\n",
    "**The Reduce Function:** Если для ключа $t$ есть список из двух элементов $[t, t]$ $-$ создайте пару $(t, t)$. Иначе, ничего не создавайте."
   ]
  },
  {
   "cell_type": "code",
   "execution_count": 28,
   "metadata": {
    "id": "XKlBZh4IwERR"
   },
   "outputs": [
    {
     "data": {
      "text/plain": [
       "[(User(id=2, age=25, social_contacts=240, gender='male'),\n",
       "  User(id=2, age=25, social_contacts=240, gender='male')),\n",
       " (User(id=5, age=40, social_contacts=800, gender='male'),\n",
       "  User(id=5, age=40, social_contacts=800, gender='male'))]"
      ]
     },
     "execution_count": 28,
     "metadata": {},
     "output_type": "execute_result"
    }
   ],
   "source": [
    "def REDUCE(key, rows):\n",
    "    if len(rows) > 1:\n",
    "        yield (key, key)\n",
    "\n",
    "list(MapReduce(RECORDREADER, MAP, REDUCE))"
   ]
  },
  {
   "cell_type": "markdown",
   "metadata": {
    "id": "AVOpqoY3wE5k"
   },
   "source": [
    "### Difference (Разница)\n",
    "\n",
    "**The Map Function:** Для кортежа $t \\in R$, создайте пару $(t, R)$, и для кортежа $t \\in S$, создайте пару $(t, S)$. Задумка заключается в том, чтобы значение пары было именем отношения $R$ or $S$, которому принадлежит кортеж (а лучше, единичный бит, по которому можно два отношения различить $R$ or $S$), а не весь набор атрибутов отношения.\n",
    "\n",
    "**The Reduce Function:** Для каждого ключа $t$, если соответствующее значение является списком $[R]$, создайте пару $(t, t)$. В иных случаях не предпринимайте действий."
   ]
  },
  {
   "cell_type": "code",
   "execution_count": 29,
   "metadata": {
    "id": "QE_AC09lwZIZ"
   },
   "outputs": [
    {
     "data": {
      "text/plain": [
       "[(User(id=0, age=55, social_contacts=20, gender='male'),\n",
       "  User(id=0, age=55, social_contacts=20, gender='male')),\n",
       " (User(id=4, age=17, social_contacts=500, gender='female'),\n",
       "  User(id=4, age=17, social_contacts=500, gender='female'))]"
      ]
     },
     "execution_count": 29,
     "metadata": {},
     "output_type": "execute_result"
    }
   ],
   "source": [
    "def MAP(key, value):\n",
    "    if value in input_collection_1:\n",
    "        yield (value, 0)\n",
    "    elif value in input_collection_2:\n",
    "        yield (value, 1)\n",
    "\n",
    "def REDUCE(key, rows):\n",
    "    if (rows == [0]):\n",
    "        yield (key, key)\n",
    "\n",
    "list(MapReduce(RECORDREADER, MAP, REDUCE))"
   ]
  },
  {
   "cell_type": "markdown",
   "metadata": {
    "id": "j8I58V2VwhSm"
   },
   "source": [
    "### Natural Join\n",
    "\n",
    "**The Map Function:** Для каждого кортежа $(a, b)$ отношения $R$, создайте пару $(b,(R, a))$. Для каждого кортежа $(b, c)$ отношения $S$, создайте пару $(b,(S, c))$.\n",
    "\n",
    "**The Reduce Function:** Каждый ключ $b$ будет асоциирован со списком пар, которые принимают форму либо $(R, a)$, либо $(S, c)$. Создайте все пары, одни, состоящие из  первого компонента $R$, а другие, из первого компонента $S$, то есть $(R, a)$ и $(S, c)$. На выходе вы получаете последовательность пар ключ-значение из списков ключей и значений. Ключ не нужен. Каждое значение, это тройка $(a, b, c)$ такая, что $(R, a)$ и $(S, c)$ это принадлежат входному списку значений."
   ]
  },
  {
   "cell_type": "code",
   "execution_count": 30,
   "metadata": {
    "id": "yHiuuTctw86I"
   },
   "outputs": [
    {
     "name": "stdout",
     "output_type": "stream",
     "text": [
      "Samara\n",
      "   Student_Teacher(Name='Mark', Age=17, TeacherName='Samara', Experience=7)\n",
      "   Student_Teacher(Name='Zoi', Age=17, TeacherName='Samara', Experience=7)\n",
      "   Student_Teacher(Name='Lena', Age=15, TeacherName='Samara', Experience=7)\n",
      "Petr\n",
      "   Student_Teacher(Name='Andrey', Age=16, TeacherName='Petr', Experience=25)\n",
      "   Student_Teacher(Name='Dasha', Age=18, TeacherName='Petr', Experience=25)\n",
      "   Student_Teacher(Name='Maksim', Age=16, TeacherName='Petr', Experience=25)\n",
      "Oksana\n",
      "   Student_Teacher(Name='Nikita', Age=19, TeacherName='Oksana', Experience=5)\n"
     ]
    }
   ],
   "source": [
    "class Student(NamedTuple):\n",
    "    Name: str\n",
    "    Age: int\n",
    "    TeacherName: str\n",
    "\n",
    "class StudentInfo(NamedTuple):\n",
    "    Name: str\n",
    "    Age: int\n",
    "    \n",
    "class Teacher(NamedTuple):\n",
    "    TeacherName: str\n",
    "    Experience: int\n",
    "\n",
    "class Teacher_Experience(NamedTuple):\n",
    "    Experience: int\n",
    "\n",
    "class Student_Teacher(NamedTuple):\n",
    "    Name: str\n",
    "    Age: int\n",
    "    TeacherName: str\n",
    "    Experience: int\n",
    "\n",
    "students_collection = [\n",
    "    Student(Name=\"Mark\", Age=17, TeacherName=\"Samara\"),\n",
    "    Student(Name=\"Andrey\", Age=16, TeacherName=\"Petr\"),\n",
    "    Student(Name=\"Zoi\", Age=17, TeacherName=\"Samara\"),\n",
    "    Student(Name=\"Dasha\", Age=18, TeacherName=\"Petr\"),\n",
    "    Student(Name=\"Nikita\", Age=19, TeacherName=\"Oksana\"),\n",
    "    Student(Name=\"Maksim\", Age=16, TeacherName=\"Petr\"),\n",
    "    Student(Name=\"Lena\", Age=15, TeacherName=\"Samara\")\n",
    "]\n",
    "teachers_collection = [\n",
    "    Teacher(TeacherName=\"Samara\", Experience=7),\n",
    "    Teacher(TeacherName=\"Oksana\", Experience=5),\n",
    "    Teacher(TeacherName=\"Petr\", Experience=25),\n",
    "    Teacher(TeacherName=\"Alexey\", Experience=9)\n",
    "]\n",
    "\n",
    "def MAP(key, value):\n",
    "    if value in students_collection:\n",
    "        yield (value.TeacherName, (0, StudentInfo(value.Name, value.Age)))\n",
    "    elif value in teachers_collection:\n",
    "        yield (value.TeacherName, (1, Teacher_Experience(value.Experience)))\n",
    "\n",
    "def REDUCE(key, rows):\n",
    "    for i in range(len(rows)):\n",
    "        for j in range(len(rows)):\n",
    "            if (rows[i][0] == 1 and rows[j][0] == 0):\n",
    "                yield (key, Student_Teacher(Name=rows[j][1].Name, Age=rows[j][1].Age, TeacherName=key, Experience=rows[i][1].Experience))\n",
    "\n",
    "def RECORDREADER():\n",
    "    return [(idx, obj) for idx, obj in enumerate(students_collection + teachers_collection)]\n",
    "\n",
    "res = list(MapReduce(RECORDREADER, MAP, REDUCE))\n",
    "\n",
    "teachers = { teacher[0]:[] for teacher in res }\n",
    "\n",
    "for student in res:\n",
    "    teachers[student[1].TeacherName].append(student[1])\n",
    "\n",
    "for teacherName in teachers:\n",
    "    print(teacherName)\n",
    "    for student in teachers[teacherName]:\n",
    "        print(\"  \", student)"
   ]
  },
  {
   "cell_type": "markdown",
   "metadata": {
    "id": "kYdlr0YUxE27"
   },
   "source": [
    "### Grouping and Aggregation (Группировка и аггрегация)\n",
    "\n",
    "**The Map Function:** Для каждого кортежа $(a, b, c$) создайте пару $(a, b)$.\n",
    "\n",
    "**The Reduce Function:** Ключ представляет ту или иную группу. Примение аггрегирующую операцию $\\theta$ к списку значений $[b1, b2, . . . , bn]$ ассоциированных с ключом $a$. Возвращайте в выходной поток $(a, x)$, где $x$ результат применения  $\\theta$ к списку. Например, если $\\theta$ это $SUM$, тогда $x = b1 + b2 + · · · + bn$, а если $\\theta$ is $MAX$, тогда $x$ это максимальное из значений $b1, b2, . . . , bn$."
   ]
  },
  {
   "cell_type": "code",
   "execution_count": 31,
   "metadata": {},
   "outputs": [
    {
     "name": "stdout",
     "output_type": "stream",
     "text": [
      "Зарплаты сотрудников в зависимости от их должности: ('Director', 600) ('Developer', 235) ('Сleaner', 70)\n"
     ]
    }
   ],
   "source": [
    "class Employee(NamedTuple):\n",
    "    id: int\n",
    "    position: str\n",
    "    salary: int \n",
    "    \n",
    "input_collection = [\n",
    "    Employee(id=1, position=\"Director\", salary=150),\n",
    "    Employee(id=2, position=\"Developer\", salary=50),\n",
    "    Employee(id=3, position=\"Сleaner\", salary=25),\n",
    "    Employee(id=4, position=\"Director\", salary=250),\n",
    "    Employee(id=5, position=\"Developer\", salary=70),\n",
    "    Employee(id=6, position=\"Director\", salary=200),\n",
    "    Employee(id=7, position=\"Сleaner\", salary=45),\n",
    "    Employee(id=8, position=\"Developer\", salary=60),\n",
    "    Employee(id=9, position=\"Developer\", salary=55),\n",
    "]\n",
    "\n",
    "def MAP(key, value):\n",
    "    yield (value.position, value.salary)\n",
    "\n",
    "def REDUCE(key, rows):\n",
    "    yield (key, sum(rows))\n",
    "\n",
    "def RECORDREADER():\n",
    "    return [(idx, obj) for idx, obj in enumerate(input_collection)]\n",
    "\n",
    "print(\"Зарплаты сотрудников в зависимости от их должности:\", *MapReduce(RECORDREADER, MAP, REDUCE))"
   ]
  },
  {
   "cell_type": "markdown",
   "metadata": {
    "id": "IIrRgvG4RIS4"
   },
   "source": [
    "### Matrix-Vector multiplication\n",
    "\n",
    "Случай, когда вектор не помещается в памяти Map задачи\n"
   ]
  },
  {
   "cell_type": "code",
   "execution_count": 32,
   "metadata": {
    "id": "KQhDbiL3zS9r"
   },
   "outputs": [
    {
     "name": "stdout",
     "output_type": "stream",
     "text": [
      "matrix: [[1. 1.]\n",
      " [1. 1.]\n",
      " [1. 1.]\n",
      " [1. 1.]\n",
      " [1. 1.]\n",
      " [1. 1.]\n",
      " [1. 1.]] [[1. 1.]\n",
      " [1. 1.]\n",
      " [1. 1.]\n",
      " [1. 1.]\n",
      " [1. 1.]\n",
      " [1. 1.]\n",
      " [1. 1.]] [[1. 1.]\n",
      " [1. 1.]\n",
      " [1. 1.]\n",
      " [1. 1.]\n",
      " [1. 1.]\n",
      " [1. 1.]\n",
      " [1. 1.]]\n",
      "vector: [0.17947297 0.76663042] [0.06387788 0.15162044] [0.44403511 0.09919035]\n"
     ]
    },
    {
     "data": {
      "text/plain": [
       "[(0, 1.7048271685686323),\n",
       " (1, 1.7048271685686323),\n",
       " (2, 1.7048271685686323),\n",
       " (3, 1.7048271685686323),\n",
       " (4, 1.7048271685686323),\n",
       " (5, 1.7048271685686323),\n",
       " (6, 1.7048271685686323)]"
      ]
     },
     "execution_count": 32,
     "metadata": {},
     "output_type": "execute_result"
    }
   ],
   "source": [
    "rows, cols = 7, 6\n",
    "sections = 3\n",
    "\n",
    "num_cols = cols // sections\n",
    "\n",
    "matrix = [np.ones((rows, num_cols)) for i in range(sections)]\n",
    "vector= [np.random.rand(num_cols) for i in range(sections)]\n",
    "\n",
    "def MAP(coords, value):\n",
    "  i, j = coords\n",
    "  yield (i, value * vec[j])\n",
    "\n",
    "def REDUCE(i, products):\n",
    "    sum = 0\n",
    "    for p in products:\n",
    "        sum += p\n",
    "    yield (i, sum)\n",
    "\n",
    "def RECORDREADER():\n",
    "    global vec\n",
    "    for idx, section in enumerate(matrix):\n",
    "        vec = vector[idx]\n",
    "        for i in range(section.shape[0]):\n",
    "            for j in range(section.shape[1]):\n",
    "                yield ((i, j), section[i, j])\n",
    "\n",
    "print(\"matrix:\", *matrix)\n",
    "print(\"vector:\", *vector)\n",
    "list(MapReduce(RECORDREADER, MAP, REDUCE))"
   ]
  },
  {
   "cell_type": "markdown",
   "metadata": {
    "id": "GIo2t7nNxvA9"
   },
   "source": [
    "## Matrix multiplication (Перемножение матриц)\n",
    "\n",
    "Если у нас есть матрица $M$ с элементами $m_{ij}$ в строке $i$ и столбце $j$, и матрица $N$ с элементами $n_{jk}$ в строке $j$ и столбце $k$, тогда их произведение $P = MN$ есть матрица $P$ с элементами $p_{ik}$ в строке $i$ и столбце $k$, где\n",
    "\n",
    "$$p_{ik} =\\sum_{j} m_{ij}n_{jk}$$\n",
    "\n",
    "Необходимым требованием является одинаковое количество столбцов в $M$ и строк в $N$, чтобы операция суммирования по  $j$ была осмысленной. Мы можем размышлять о матрице, как об отношении с тремя атрибутами: номер строки, номер столбца, само значение. Таким образом матрица $M$ предстваляется как отношение $ M(I, J, V )$, с кортежами $(i, j, m_{ij})$, и, аналогично, матрица $N$ представляется как отношение $N(J, K, W)$, с кортежами $(j, k, n_{jk})$. Так как большие матрицы как правило разреженные (большинство значений равно 0), и так как мы можем нулевыми значениями пренебречь (не хранить), такое реляционное представление достаточно эффективно для больших матриц. Однако, возможно, что координаты $i$, $j$, и $k$ неявно закодированы в смещение позиции элемента относительно начала файла, вместо явного хранения. Тогда, функция Map (или Reader) должна быть разработана таким образом, чтобы реконструировать компоненты $I$, $J$, и $K$ кортежей из смещения.\n",
    "\n",
    "Произведение $MN$ это фактически join, за которым следуют группировка по ключу и аггрегация. Таким образом join отношений $M(I, J, V )$ и $N(J, K, W)$, имеющих общим только атрибут $J$, создаст кортежи $(i, j, k, v, w)$ из каждого кортежа $(i, j, v) \\in M$ и кортежа $(j, k, w) \\in N$. Такой 5 компонентный кортеж представляет пару элементов матрицы $(m_{ij} , n_{jk})$. Что нам хотелось бы получить на самом деле, это произведение этих элементов, то есть, 4 компонентный кортеж$(i, j, k, v \\times w)$, так как он представляет произведение $m_{ij}n_{jk}$. Мы представляем отношение как результат одной MapReduce операции, в которой мы можем произвести группировку и аггрегацию, с $I$ и $K$  атрибутами, по которым идёт группировка, и суммой  $V \\times W$. \n",
    "\n",
    "\n",
    "\n"
   ]
  },
  {
   "cell_type": "code",
   "execution_count": 33,
   "metadata": {
    "id": "1MBkGaLAYVCt"
   },
   "outputs": [],
   "source": [
    "# MapReduce model\n",
    "def flatten(nested_iterable):\n",
    "    for iterable in nested_iterable:\n",
    "        for element in iterable:\n",
    "            yield element\n",
    "\n",
    "def groupbykey(iterable):\n",
    "    t = {}\n",
    "    for (k2, v2) in iterable:\n",
    "        t[k2] = t.get(k2, []) + [v2]\n",
    "    return t.items()\n",
    "\n",
    "def MapReduce(RECORDREADER, MAP, REDUCE):\n",
    "    return flatten(map(lambda x: REDUCE(*x), groupbykey(flatten(map(lambda x: MAP(*x), RECORDREADER())))))"
   ]
  },
  {
   "cell_type": "markdown",
   "metadata": {
    "id": "sMspsOT0ZB35"
   },
   "source": [
    "Реализуйте перемножение матриц с использованием модельного кода MapReduce для одной машины в случае, когда одна матрица хранится в памяти, а другая генерируется RECORDREADER-ом."
   ]
  },
  {
   "cell_type": "code",
   "execution_count": 34,
   "metadata": {
    "id": "psP1XekbsEjS"
   },
   "outputs": [],
   "source": [
    "import numpy as np\n",
    "I = 2\n",
    "J = 3\n",
    "K = 4*10\n",
    "small_mat = np.random.rand(I,J) # it is legal to access this from RECORDREADER, MAP, REDUCE\n",
    "big_mat = np.random.rand(J,K)\n",
    "\n",
    "def RECORDREADER():\n",
    "    for j in range(big_mat.shape[0]):\n",
    "        for k in range(big_mat.shape[1]):\n",
    "            yield ((j,k), big_mat[j,k])\n",
    "      \n",
    "def MAP(k1, v1):\n",
    "    (j, k) = k1\n",
    "    w = v1\n",
    "    for i in range(I):\n",
    "        yield ((i, k), small_mat[i, j] * w)\n",
    "  \n",
    "def REDUCE(key, values):\n",
    "    (i, k) = key\n",
    "    yield ((i, k), sum(values))"
   ]
  },
  {
   "cell_type": "markdown",
   "metadata": {
    "id": "rnt306LHhHrm"
   },
   "source": [
    "Проверьте своё решение"
   ]
  },
  {
   "cell_type": "code",
   "execution_count": 35,
   "metadata": {
    "colab": {
     "base_uri": "https://localhost:8080/",
     "height": 34
    },
    "id": "Ewy_ZNYqW5a2",
    "outputId": "9ce264f2-9412-44e2-9b0a-cc780573ab3a"
   },
   "outputs": [
    {
     "data": {
      "text/plain": [
       "True"
      ]
     },
     "execution_count": 35,
     "metadata": {},
     "output_type": "execute_result"
    }
   ],
   "source": [
    "# CHECK THE SOLUTION\n",
    "reference_solution = np.matmul(small_mat, big_mat) \n",
    "solution = MapReduce(RECORDREADER, MAP, REDUCE)\n",
    "\n",
    "def asmatrix(reduce_output):\n",
    "    reduce_output = list(reduce_output)\n",
    "    I = max(i for ((i,k), vw) in reduce_output)+1\n",
    "    K = max(k for ((i,k), vw) in reduce_output)+1\n",
    "    mat = np.empty(shape=(I,K))\n",
    "    for ((i,k), vw) in reduce_output:\n",
    "        mat[i,k] = vw\n",
    "    return mat\n",
    "\n",
    "np.allclose(reference_solution, asmatrix(solution)) # should return true"
   ]
  },
  {
   "cell_type": "code",
   "execution_count": 36,
   "metadata": {
    "colab": {
     "base_uri": "https://localhost:8080/",
     "height": 34
    },
    "id": "TK7v4CEcfxqf",
    "outputId": "2c865d0a-4065-4e6b-c83f-5508ed5eb4fa"
   },
   "outputs": [
    {
     "data": {
      "text/plain": [
       "1"
      ]
     },
     "execution_count": 36,
     "metadata": {},
     "output_type": "execute_result"
    }
   ],
   "source": [
    "reduce_output = list(MapReduce(RECORDREADER, MAP, REDUCE))\n",
    "max(i for ((i,k), vw) in reduce_output)"
   ]
  },
  {
   "cell_type": "markdown",
   "metadata": {
    "id": "i4yyg3kOZqJJ"
   },
   "source": [
    "Реализуйте перемножение матриц  с использованием модельного кода MapReduce для одной машины в случае, когда обе матрицы генерируются в RECORDREADER. Например, сначала одна, а потом другая."
   ]
  },
  {
   "cell_type": "code",
   "execution_count": 37,
   "metadata": {
    "id": "3B7rIAJCaHZq"
   },
   "outputs": [
    {
     "data": {
      "text/plain": [
       "True"
      ]
     },
     "execution_count": 37,
     "metadata": {},
     "output_type": "execute_result"
    }
   ],
   "source": [
    "import numpy as np\n",
    "I = 2\n",
    "J = 3\n",
    "K = 4*10\n",
    "small_mat = np.random.rand(I,J) # it is legal to access this from RECORDREADER, MAP, REDUCE\n",
    "big_mat = np.random.rand(J,K)\n",
    "\n",
    "def RECORDREADER():\n",
    "    for i in range(I):\n",
    "        for j in range(J):\n",
    "          yield ((0, i, j), small_mat[i, j])\n",
    "\n",
    "    for j in range(J):\n",
    "        for k in range(K):\n",
    "            yield ((1, j, k), big_mat[j, k])\n",
    "      \n",
    "def MAP(k1, v1):\n",
    "    (matrix_index, row_index, col_index) = k1\n",
    "    if matrix_index == 0:\n",
    "        yield (col_index, (matrix_index, row_index, v1))\n",
    "    else:\n",
    "        yield (row_index, (matrix_index, col_index, v1))\n",
    "\n",
    "\n",
    "def REDUCE(key, values):\n",
    "    matrix_1 = {value[1]: value[2] for value in values if value[0] == 0}\n",
    "    matrix_2 = {value[1]: value[2] for value in values if value[0] == 1}\n",
    "\n",
    "    for idx1, val1 in matrix_1.items():\n",
    "        for idx2, val2 in matrix_2.items():\n",
    "            yield ((idx1, idx2), val1 * val2)\n",
    "\n",
    "def MAP_IDENTITY(*args):\n",
    "    yield args\n",
    "\n",
    "def REDUCE_AGREGATE(key, values):\n",
    "    yield (key, sum(values))\n",
    "\n",
    "def RECORDREADER_IDENTITY(iterable):\n",
    "    def func():\n",
    "        for el in iterable:\n",
    "            yield el\n",
    "    return func\n",
    "\n",
    "\n",
    "# CHECK THE SOLUTION\n",
    "reference_solution = np.matmul(small_mat, big_mat) \n",
    "partial_solution = MapReduce(RECORDREADER, MAP, REDUCE)\n",
    "solution = MapReduce(RECORDREADER_IDENTITY(partial_solution), MAP_IDENTITY, REDUCE_AGREGATE)\n",
    "\n",
    "def asmatrix(reduce_output):\n",
    "    reduce_output = list(reduce_output)\n",
    "    I = max(i for ((i,k), vw) in reduce_output)+1\n",
    "    K = max(k for ((i,k), vw) in reduce_output)+1\n",
    "    mat = np.empty(shape=(I,K))\n",
    "    for ((i,k), vw) in reduce_output:\n",
    "        mat[i,k] = vw\n",
    "    return mat\n",
    "\n",
    "np.allclose(reference_solution, asmatrix(solution)) # should return true"
   ]
  },
  {
   "cell_type": "markdown",
   "metadata": {
    "id": "mXyzQi1DaIwo"
   },
   "source": [
    "Реализуйте перемножение матриц с использованием модельного кода MapReduce Distributed, когда каждая матрица генерируется в своём RECORDREADER. "
   ]
  },
  {
   "cell_type": "code",
   "execution_count": 38,
   "metadata": {
    "id": "TDM_s78Rb5eR"
   },
   "outputs": [
    {
     "name": "stdout",
     "output_type": "stream",
     "text": [
      "126 key-value pairs were sent over a network.\n",
      "240 key-value pairs were sent over a network.\n"
     ]
    },
    {
     "data": {
      "text/plain": [
       "True"
      ]
     },
     "execution_count": 38,
     "metadata": {},
     "output_type": "execute_result"
    }
   ],
   "source": [
    "I = 2\n",
    "J = 3\n",
    "K = 4 * 10\n",
    "small_mat = np.random.rand(I, J)\n",
    "big_mat = np.random.rand(J, K)\n",
    "\n",
    "maps = 2\n",
    "reducers = 2\n",
    "\n",
    "def INPUTFORMAT():\n",
    "    def RECORDREADER(index, matrix):\n",
    "        rows, cols = matrix.shape\n",
    "        for i in range(rows):\n",
    "            for j in range(cols):\n",
    "                yield ((index, i, j), matrix[i, j])\n",
    "\n",
    "    yield RECORDREADER(0, small_mat)\n",
    "    yield RECORDREADER(1, big_mat)\n",
    "\n",
    "def MAP(k1, v1):\n",
    "    (matrix_index, row_index, col_index) = k1\n",
    "    if matrix_index == 0:\n",
    "        yield (col_index, (matrix_index, row_index, v1))\n",
    "    else:\n",
    "        yield (row_index, (matrix_index, col_index, v1))\n",
    "\n",
    "\n",
    "def REDUCE(key, values):\n",
    "    matrix_1 = {value[1]: value[2] for value in values if value[0] == 0}\n",
    "    matrix_2 = {value[1]: value[2] for value in values if value[0] == 1}\n",
    "\n",
    "    for idx1, val1 in matrix_1.items():\n",
    "        for idx2, val2 in matrix_2.items():\n",
    "            yield ((idx1, idx2), val1 * val2)\n",
    "\n",
    "def MAP_IDENTITY(*args):\n",
    "    yield args\n",
    "\n",
    "def REDUCE_AGREGATE(key, values):\n",
    "    yield (key, sum(values))\n",
    "\n",
    "def GET_INPUTFORMAT(iterable):\n",
    "    def func():\n",
    "        for el in iterable:\n",
    "            yield el[1]\n",
    "    return func\n",
    "\n",
    "reference_solution = np.matmul(small_mat, big_mat)\n",
    "\n",
    "partitioned_output = MapReduceDistributed(INPUTFORMAT, MAP, REDUCE, COMBINER=None)\n",
    "partitioned_output = [(partition_id, list(partition)) for (partition_id, partition) in partitioned_output]\n",
    "\n",
    "solution = MapReduceDistributed(GET_INPUTFORMAT(partitioned_output), MAP_IDENTITY, REDUCE_AGREGATE, COMBINER=None)\n",
    "solution = [(partition_id, list(partition)) for (partition_id, partition) in solution]\n",
    "\n",
    "solution_unpacked = []\n",
    "for value in solution:\n",
    "    for v in value[1]:\n",
    "        solution_unpacked.append(v)\n",
    "def asmatrix(reduce_output):\n",
    "    reduce_output = list(reduce_output)\n",
    "    I = max(i for ((i,k), vw) in reduce_output)+1\n",
    "    K = max(k for ((i,k), vw) in reduce_output)+1\n",
    "    mat = np.empty(shape=(I,K))\n",
    "    for ((i,k), vw) in reduce_output:\n",
    "        mat[i,k] = vw\n",
    "    return mat\n",
    "\n",
    "np.allclose(reference_solution, asmatrix(solution_unpacked)) # should return true"
   ]
  },
  {
   "cell_type": "markdown",
   "metadata": {
    "id": "ZuSA2P9Db6UM"
   },
   "source": [
    "Обобщите предыдущее решение на случай, когда каждая матрица генерируется несколькими RECORDREADER-ами, и проверьте его работоспособность. Будет ли работать решение, если RECORDREADER-ы будут генерировать случайное подмножество элементов матрицы?"
   ]
  },
  {
   "cell_type": "code",
   "execution_count": 39,
   "metadata": {
    "id": "ehN0FqRDcwU5"
   },
   "outputs": [
    {
     "name": "stdout",
     "output_type": "stream",
     "text": [
      "18 key-value pairs were sent over a network.\n",
      "24 key-value pairs were sent over a network.\n"
     ]
    },
    {
     "data": {
      "text/plain": [
       "True"
      ]
     },
     "execution_count": 39,
     "metadata": {},
     "output_type": "execute_result"
    }
   ],
   "source": [
    "I = 2\n",
    "J = 3\n",
    "K = 4\n",
    "small_mat = np.random.rand(I, J)\n",
    "big_mat = np.random.rand(J, K)\n",
    "\n",
    "maps = 2\n",
    "reducers = 2\n",
    "\n",
    "def INPUTFORMAT():\n",
    "    def RECORDREADER(index, matrix, shift):\n",
    "        rows, cols = matrix.shape\n",
    "        for i in range(rows):\n",
    "            for j in range(cols):\n",
    "                yield ((index, i + shift, j), matrix[i, j])\n",
    "\n",
    "    split_size = int(np.ceil(len(small_mat) / maps))\n",
    "    for i in range(0, len(small_mat), split_size):\n",
    "        yield RECORDREADER(0, small_mat[i:i + split_size], i)\n",
    "    \n",
    "    split_size = int(np.ceil(len(big_mat) / maps))    \n",
    "    for i in range(0, len(big_mat), split_size):\n",
    "        yield RECORDREADER(1, big_mat[i:i + split_size], i)\n",
    "\n",
    "def MAP(k1, v1):\n",
    "    (matrix_index, row_index, col_index) = k1\n",
    "    if matrix_index == 0:\n",
    "        yield (col_index, (matrix_index, row_index, v1))\n",
    "    else:\n",
    "        yield (row_index, (matrix_index, col_index, v1))\n",
    "\n",
    "\n",
    "def REDUCE(key, values):\n",
    "    matrix_1 = {value[1]: value[2] for value in values if value[0] == 0}\n",
    "    matrix_2 = {value[1]: value[2] for value in values if value[0] == 1}\n",
    "\n",
    "    for idx1, val1 in matrix_1.items():\n",
    "        for idx2, val2 in matrix_2.items():\n",
    "            yield ((idx1, idx2), val1 * val2)\n",
    "\n",
    "def MAP_IDENTITY(*args):\n",
    "    yield args\n",
    "\n",
    "def REDUCE_AGREGATE(key, values):\n",
    "    yield (key, sum(values))\n",
    "\n",
    "def GET_INPUTFORMAT(iterable):\n",
    "    def func():\n",
    "        for el in iterable:\n",
    "            yield el[1]\n",
    "    return func\n",
    "\n",
    "reference_solution = np.matmul(small_mat, big_mat)\n",
    "\n",
    "partitioned_output = MapReduceDistributed(INPUTFORMAT, MAP, REDUCE, COMBINER=None)\n",
    "partitioned_output = [(partition_id, list(partition)) for (partition_id, partition) in partitioned_output]\n",
    "\n",
    "solution = MapReduceDistributed(GET_INPUTFORMAT(partitioned_output), MAP_IDENTITY, REDUCE_AGREGATE, COMBINER=None)\n",
    "solution = [(partition_id, list(partition)) for (partition_id, partition) in solution]\n",
    "\n",
    "solution_unpacked = []\n",
    "for value in solution:\n",
    "    for v in value[1]:\n",
    "        solution_unpacked.append(v)\n",
    "def asmatrix(reduce_output):\n",
    "    reduce_output = list(reduce_output)\n",
    "    I = max(i for ((i,k), vw) in reduce_output)+1\n",
    "    K = max(k for ((i,k), vw) in reduce_output)+1\n",
    "    mat = np.empty(shape=(I,K))\n",
    "    for ((i,k), vw) in reduce_output:\n",
    "        mat[i,k] = vw\n",
    "    return mat\n",
    "\n",
    "np.allclose(reference_solution, asmatrix(solution_unpacked)) # should return true"
   ]
  }
 ],
 "metadata": {
  "colab": {
   "provenance": []
  },
  "kernelspec": {
   "display_name": "Python 3 (ipykernel)",
   "language": "python",
   "name": "python3"
  },
  "language_info": {
   "codemirror_mode": {
    "name": "ipython",
    "version": 3
   },
   "file_extension": ".py",
   "mimetype": "text/x-python",
   "name": "python",
   "nbconvert_exporter": "python",
   "pygments_lexer": "ipython3",
   "version": "3.11.2"
  }
 },
 "nbformat": 4,
 "nbformat_minor": 4
}
