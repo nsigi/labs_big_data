{
  "cells": [
    {
      "cell_type": "code",
      "source": [
        "!pip install pyspark==3.0.0"
      ],
      "metadata": {
        "colab": {
          "base_uri": "https://localhost:8080/"
        },
        "id": "pAOk7pnMqfHg",
        "outputId": "142180d1-f2f7-454f-a22b-cdc7388c6e23"
      },
      "id": "pAOk7pnMqfHg",
      "execution_count": 1,
      "outputs": [
        {
          "output_type": "stream",
          "name": "stdout",
          "text": [
            "Collecting pyspark==3.0.0\n",
            "  Using cached pyspark-3.0.0.tar.gz (204.7 MB)\n",
            "  Preparing metadata (setup.py) ... \u001b[?25l\u001b[?25hdone\n",
            "Collecting py4j==0.10.9 (from pyspark==3.0.0)\n",
            "  Downloading py4j-0.10.9-py2.py3-none-any.whl (198 kB)\n",
            "\u001b[2K     \u001b[90m━━━━━━━━━━━━━━━━━━━━━━━━━━━━━━━━━━━━━━━━\u001b[0m \u001b[32m198.6/198.6 kB\u001b[0m \u001b[31m3.4 MB/s\u001b[0m eta \u001b[36m0:00:00\u001b[0m\n",
            "\u001b[?25hBuilding wheels for collected packages: pyspark\n",
            "  Building wheel for pyspark (setup.py) ... \u001b[?25l\u001b[?25hdone\n",
            "  Created wheel for pyspark: filename=pyspark-3.0.0-py2.py3-none-any.whl size=205044159 sha256=13a222adc8075ef01ba641bba4647a6420e446c860b836e23046f03c56793fe9\n",
            "  Stored in directory: /root/.cache/pip/wheels/b1/bb/8b/ca24d3f756f2ed967225b0871898869db676eb5846df5adc56\n",
            "Successfully built pyspark\n",
            "Installing collected packages: py4j, pyspark\n",
            "  Attempting uninstall: py4j\n",
            "    Found existing installation: py4j 0.10.9.7\n",
            "    Uninstalling py4j-0.10.9.7:\n",
            "      Successfully uninstalled py4j-0.10.9.7\n",
            "Successfully installed py4j-0.10.9 pyspark-3.0.0\n"
          ]
        }
      ]
    },
    {
      "cell_type": "code",
      "execution_count": 2,
      "id": "7e4f47e7",
      "metadata": {
        "id": "7e4f47e7"
      },
      "outputs": [],
      "source": [
        "import pyspark\n",
        "import os\n",
        "\n",
        "from datetime import datetime\n",
        "from pyspark.sql.functions import col\n",
        "from pyspark.sql import SparkSession\n",
        "from pyspark import SparkContext, SparkConf\n",
        "from pyspark.sql.types import StructType, StructField, StringType, DateType"
      ]
    },
    {
      "cell_type": "code",
      "execution_count": 5,
      "id": "a4b7a02e",
      "metadata": {
        "colab": {
          "base_uri": "https://localhost:8080/",
          "height": 219
        },
        "id": "a4b7a02e",
        "outputId": "ed3417f5-349e-4735-b2ba-1f3251febe7b"
      },
      "outputs": [
        {
          "output_type": "execute_result",
          "data": {
            "text/plain": [
              "<pyspark.sql.session.SparkSession at 0x7d8d6bd24280>"
            ],
            "text/html": [
              "\n",
              "            <div>\n",
              "                <p><b>SparkSession - in-memory</b></p>\n",
              "                \n",
              "        <div>\n",
              "            <p><b>SparkContext</b></p>\n",
              "\n",
              "            <p><a href=\"http://41ce4e16a433:4040\">Spark UI</a></p>\n",
              "\n",
              "            <dl>\n",
              "              <dt>Version</dt>\n",
              "                <dd><code>v3.0.0</code></dd>\n",
              "              <dt>Master</dt>\n",
              "                <dd><code>local[*]</code></dd>\n",
              "              <dt>AppName</dt>\n",
              "                <dd><code>Lab2_Script</code></dd>\n",
              "            </dl>\n",
              "        </div>\n",
              "        \n",
              "            </div>\n",
              "        "
            ]
          },
          "metadata": {},
          "execution_count": 5
        }
      ],
      "source": [
        "os.environ['PYSPARK_SUBMIT_ARGS'] = '--packages com.databricks:spark-xml_2.12:0.13.0 pyspark-shell'\n",
        "sc = SparkSession.builder.appName(\"Lab2_Script\").master(\"local[*]\").getOrCreate()\n",
        "sc"
      ]
    },
    {
      "cell_type": "code",
      "execution_count": 6,
      "id": "9340f4ea",
      "metadata": {
        "id": "9340f4ea"
      },
      "outputs": [],
      "source": [
        "pro_lang = sc.read.csv(\"programming-languages.csv\")"
      ]
    },
    {
      "cell_type": "code",
      "execution_count": 7,
      "id": "c9a78df8",
      "metadata": {
        "colab": {
          "base_uri": "https://localhost:8080/"
        },
        "id": "c9a78df8",
        "outputId": "c200967b-8def-4bd8-ebdc-c7372b22c48a"
      },
      "outputs": [
        {
          "output_type": "execute_result",
          "data": {
            "text/plain": [
              "['name',\n",
              " 'A# .NET',\n",
              " 'A# (Axiom)',\n",
              " 'A-0 System',\n",
              " 'A+',\n",
              " 'A++',\n",
              " 'ABAP',\n",
              " 'ABC',\n",
              " 'ABC ALGOL',\n",
              " 'ABSET']"
            ]
          },
          "metadata": {},
          "execution_count": 7
        }
      ],
      "source": [
        "pro_lang_list = [str(x[0]) for x in pro_lang.collect()]\n",
        "pro_lang_list[:10]"
      ]
    },
    {
      "cell_type": "code",
      "execution_count": 8,
      "id": "8e799519",
      "metadata": {
        "colab": {
          "base_uri": "https://localhost:8080/"
        },
        "id": "8e799519",
        "outputId": "1ccd58cb-64c9-44c5-f545-c96226f77aee"
      },
      "outputs": [
        {
          "output_type": "stream",
          "name": "stdout",
          "text": [
            "[Row(_AcceptedAnswerId=7, _AnswerCount=13, _Body=\"<p>I want to use a track-bar to change a form's opacity.</p>\\n\\n<p>This is my code:</p>\\n\\n<pre><code>decimal trans = trackBar1.Value / 5000;\\nthis.Opacity = trans;\\n</code></pre>\\n\\n<p>When I build the application, it gives the following error:</p>\\n\\n<blockquote>\\n  <p>Cannot implicitly convert type <code>'decimal'</code> to <code>'double'</code></p>\\n</blockquote>\\n\\n<p>I tried using <code>trans</code> and <code>double</code> but then the control doesn't work. This code worked fine in a past VB.NET project.</p>\\n\", _ClosedDate=None, _CommentCount=2, _CommunityOwnedDate=datetime.datetime(2012, 10, 31, 16, 42, 47, 213000), _CreationDate=datetime.datetime(2008, 7, 31, 21, 42, 52, 667000), _FavoriteCount=48, _Id=4, _LastActivityDate=datetime.datetime(2019, 7, 19, 1, 39, 54, 173000), _LastEditDate=datetime.datetime(2019, 7, 19, 1, 39, 54, 173000), _LastEditorDisplayName='Rich B', _LastEditorUserId=3641067, _OwnerDisplayName=None, _OwnerUserId=8, _ParentId=None, _PostTypeId=1, _Score=630, _Tags='<c#><floating-point><type-conversion><double><decimal>', _Title='Convert Decimal to Double?', _ViewCount=42817)]\n"
          ]
        }
      ],
      "source": [
        "posts_sample = sc.read.format(\"xml\").options(rowTag=\"row\").load('posts_sample.xml')\n",
        "print(posts_sample.take(1))"
      ]
    },
    {
      "cell_type": "code",
      "execution_count": 9,
      "id": "a1d01019",
      "metadata": {
        "id": "a1d01019"
      },
      "outputs": [],
      "source": [
        "def language_detection(x):\n",
        "  tag = None\n",
        "  for language in pro_lang_list:\n",
        "    if \"<\" + language.lower() + \">\" in x._Tags.lower():\n",
        "      tag = language\n",
        "      break\n",
        "  if tag is None:\n",
        "    return None\n",
        "  return (x._Id, tag)\n",
        "\n",
        "\n",
        "def check_date(x, year):\n",
        "  start = datetime(year=year, month=1, day=1)\n",
        "  end = datetime(year=year, month=12, day=31)\n",
        "  CreationDate = x._CreationDate\n",
        "  return CreationDate >= start and CreationDate <= end"
      ]
    },
    {
      "cell_type": "code",
      "execution_count": 10,
      "id": "5af90277",
      "metadata": {
        "colab": {
          "base_uri": "https://localhost:8080/"
        },
        "id": "5af90277",
        "outputId": "bf494c2c-cabc-45b4-a0eb-7f84526bd873"
      },
      "outputs": [
        {
          "output_type": "stream",
          "name": "stdout",
          "text": [
            "+--------------------+--------------------------+\n",
            "|Programming_language|Number_of_mentions_in_2010|\n",
            "+--------------------+--------------------------+\n",
            "|                Java|                        52|\n",
            "|          JavaScript|                        44|\n",
            "|                 PHP|                        42|\n",
            "|              Python|                        25|\n",
            "|         Objective-C|                        22|\n",
            "|                   C|                        20|\n",
            "|                Ruby|                        11|\n",
            "|              Delphi|                         7|\n",
            "|                   R|                         3|\n",
            "|                Bash|                         3|\n",
            "+--------------------+--------------------------+\n",
            "\n",
            "+--------------------+--------------------------+\n",
            "|Programming_language|Number_of_mentions_in_2011|\n",
            "+--------------------+--------------------------+\n",
            "|                 PHP|                        97|\n",
            "|                Java|                        92|\n",
            "|          JavaScript|                        82|\n",
            "|              Python|                        35|\n",
            "|         Objective-C|                        33|\n",
            "|                   C|                        24|\n",
            "|                Ruby|                        17|\n",
            "|              Delphi|                         8|\n",
            "|                Perl|                         8|\n",
            "|                Bash|                         7|\n",
            "+--------------------+--------------------------+\n",
            "\n",
            "+--------------------+--------------------------+\n",
            "|Programming_language|Number_of_mentions_in_2012|\n",
            "+--------------------+--------------------------+\n",
            "|                 PHP|                       136|\n",
            "|          JavaScript|                       129|\n",
            "|                Java|                       124|\n",
            "|              Python|                        65|\n",
            "|         Objective-C|                        45|\n",
            "|                   C|                        27|\n",
            "|                Ruby|                        25|\n",
            "|                Bash|                         9|\n",
            "|                   R|                         9|\n",
            "|              MATLAB|                         6|\n",
            "+--------------------+--------------------------+\n",
            "\n",
            "+--------------------+--------------------------+\n",
            "|Programming_language|Number_of_mentions_in_2013|\n",
            "+--------------------+--------------------------+\n",
            "|          JavaScript|                       196|\n",
            "|                Java|                       191|\n",
            "|                 PHP|                       173|\n",
            "|              Python|                        87|\n",
            "|         Objective-C|                        40|\n",
            "|                   C|                        36|\n",
            "|                Ruby|                        30|\n",
            "|                   R|                        25|\n",
            "|                Bash|                        11|\n",
            "|               Scala|                        10|\n",
            "+--------------------+--------------------------+\n",
            "\n",
            "+--------------------+--------------------------+\n",
            "|Programming_language|Number_of_mentions_in_2014|\n",
            "+--------------------+--------------------------+\n",
            "|          JavaScript|                       235|\n",
            "|                Java|                       228|\n",
            "|                 PHP|                       154|\n",
            "|              Python|                       103|\n",
            "|                   C|                        52|\n",
            "|         Objective-C|                        49|\n",
            "|                   R|                        28|\n",
            "|                Ruby|                        20|\n",
            "|              MATLAB|                        16|\n",
            "|                Bash|                        13|\n",
            "+--------------------+--------------------------+\n",
            "\n",
            "+--------------------+--------------------------+\n",
            "|Programming_language|Number_of_mentions_in_2015|\n",
            "+--------------------+--------------------------+\n",
            "|          JavaScript|                       270|\n",
            "|                Java|                       208|\n",
            "|                 PHP|                       147|\n",
            "|              Python|                       119|\n",
            "|                   R|                        43|\n",
            "|                   C|                        38|\n",
            "|         Objective-C|                        30|\n",
            "|                Ruby|                        20|\n",
            "|              MATLAB|                        16|\n",
            "|               Scala|                        13|\n",
            "+--------------------+--------------------------+\n",
            "\n",
            "+--------------------+--------------------------+\n",
            "|Programming_language|Number_of_mentions_in_2016|\n",
            "+--------------------+--------------------------+\n",
            "|          JavaScript|                       271|\n",
            "|                Java|                       178|\n",
            "|              Python|                       140|\n",
            "|                 PHP|                       126|\n",
            "|                   R|                        50|\n",
            "|                   C|                        32|\n",
            "|                Ruby|                        21|\n",
            "|                Bash|                        16|\n",
            "|               Scala|                        16|\n",
            "|              MATLAB|                        15|\n",
            "+--------------------+--------------------------+\n",
            "\n",
            "+--------------------+--------------------------+\n",
            "|Programming_language|Number_of_mentions_in_2017|\n",
            "+--------------------+--------------------------+\n",
            "|          JavaScript|                       244|\n",
            "|                Java|                       204|\n",
            "|              Python|                       185|\n",
            "|                 PHP|                       122|\n",
            "|                   R|                        53|\n",
            "|                   C|                        24|\n",
            "|         Objective-C|                        19|\n",
            "|                Ruby|                        16|\n",
            "|          TypeScript|                        14|\n",
            "|          PowerShell|                        14|\n",
            "+--------------------+--------------------------+\n",
            "\n",
            "+--------------------+--------------------------+\n",
            "|Programming_language|Number_of_mentions_in_2018|\n",
            "+--------------------+--------------------------+\n",
            "|              Python|                       214|\n",
            "|          JavaScript|                       194|\n",
            "|                Java|                       145|\n",
            "|                 PHP|                        99|\n",
            "|                   R|                        63|\n",
            "|                   C|                        24|\n",
            "|               Scala|                        22|\n",
            "|          TypeScript|                        21|\n",
            "|          PowerShell|                        13|\n",
            "|                Bash|                        12|\n",
            "+--------------------+--------------------------+\n",
            "\n",
            "+--------------------+--------------------------+\n",
            "|Programming_language|Number_of_mentions_in_2019|\n",
            "+--------------------+--------------------------+\n",
            "|              Python|                       162|\n",
            "|          JavaScript|                       131|\n",
            "|                Java|                        95|\n",
            "|                 PHP|                        59|\n",
            "|                   R|                        36|\n",
            "|                   C|                        14|\n",
            "|                  Go|                         9|\n",
            "|              MATLAB|                         9|\n",
            "|                Dart|                         9|\n",
            "|                Bash|                         8|\n",
            "+--------------------+--------------------------+\n",
            "\n"
          ]
        }
      ],
      "source": [
        "final_result = {}\n",
        "for year in range(2010, 2020):\n",
        "  final_result[year] = posts_sample.rdd\\\n",
        "      .filter(lambda x: x._Tags is not None and check_date(x, year))\\\n",
        "      .map(language_detection)\\\n",
        "      .filter(lambda x: x is not None)\\\n",
        "      .keyBy(lambda x: x[1])\\\n",
        "      .aggregateByKey(\n",
        "          0,\n",
        "          lambda x, y: x + 1,\n",
        "          lambda x1, x2: x1 + x2,\n",
        "      )\\\n",
        "      .sortBy(lambda x: x[1], ascending=False)\\\n",
        "      .toDF()\n",
        "  final_result[year] = final_result[year].select(col(\"_1\").alias(\"Programming_language\"),\n",
        "                                                 col(\"_2\").alias(f\"Number_of_mentions_in_{year}\")).limit(10)\n",
        "  final_result[year].show()"
      ]
    },
    {
      "cell_type": "code",
      "execution_count": 11,
      "id": "631daad3",
      "metadata": {
        "id": "631daad3"
      },
      "outputs": [],
      "source": [
        "for year in final_result.keys():\n",
        "    final_result[year].write.format(\"parquet\").save(f\"top_{year}\")"
      ]
    }
  ],
  "metadata": {
    "kernelspec": {
      "display_name": "Python 3",
      "language": "python",
      "name": "python3"
    },
    "language_info": {
      "codemirror_mode": {
        "name": "ipython",
        "version": 3
      },
      "file_extension": ".py",
      "mimetype": "text/x-python",
      "name": "python",
      "nbconvert_exporter": "python",
      "pygments_lexer": "ipython3",
      "version": "3.6.9"
    },
    "colab": {
      "provenance": []
    }
  },
  "nbformat": 4,
  "nbformat_minor": 5
}