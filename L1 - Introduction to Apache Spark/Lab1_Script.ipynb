{
  "nbformat": 4,
  "nbformat_minor": 0,
  "metadata": {
    "colab": {
      "provenance": []
    },
    "kernelspec": {
      "name": "python3",
      "display_name": "Python 3"
    },
    "language_info": {
      "name": "python"
    }
  },
  "cells": [
    {
      "cell_type": "code",
      "source": [
        "!pip3 install pyspark==3.0.0"
      ],
      "metadata": {
        "id": "rC9MqavqazYt",
        "outputId": "c3b6a6a6-9a66-445e-f367-b2cf04467f3a",
        "colab": {
          "base_uri": "https://localhost:8080/"
        }
      },
      "execution_count": 1,
      "outputs": [
        {
          "output_type": "stream",
          "name": "stdout",
          "text": [
            "Requirement already satisfied: pyspark==3.0.0 in /usr/local/lib/python3.10/dist-packages (3.0.0)\n",
            "Requirement already satisfied: py4j==0.10.9 in /usr/local/lib/python3.10/dist-packages (from pyspark==3.0.0) (0.10.9)\n"
          ]
        }
      ]
    },
    {
      "cell_type": "code",
      "source": [
        "from pyspark import SparkContext, SparkConf\n",
        "from typing import NamedTuple\n",
        "from datetime import datetime\n",
        "import numpy as np"
      ],
      "metadata": {
        "id": "v-ussXKurOe1"
      },
      "execution_count": 2,
      "outputs": []
    },
    {
      "cell_type": "code",
      "source": [
        "conf = SparkConf().setAppName(\"Lab1_Script\")\n",
        "sc = SparkContext(conf=conf)\n",
        "sc"
      ],
      "metadata": {
        "id": "J4fIP8F2smlA",
        "colab": {
          "base_uri": "https://localhost:8080/",
          "height": 196
        },
        "outputId": "a5c42db6-fb5b-45a0-df40-d6e994f9c59b"
      },
      "execution_count": 3,
      "outputs": [
        {
          "output_type": "execute_result",
          "data": {
            "text/plain": [
              "<SparkContext master=local[*] appName=Lab1_Script>"
            ],
            "text/html": [
              "\n",
              "        <div>\n",
              "            <p><b>SparkContext</b></p>\n",
              "\n",
              "            <p><a href=\"http://a053e63e7648:4040\">Spark UI</a></p>\n",
              "\n",
              "            <dl>\n",
              "              <dt>Version</dt>\n",
              "                <dd><code>v3.0.0</code></dd>\n",
              "              <dt>Master</dt>\n",
              "                <dd><code>local[*]</code></dd>\n",
              "              <dt>AppName</dt>\n",
              "                <dd><code>Lab1_Script</code></dd>\n",
              "            </dl>\n",
              "        </div>\n",
              "        "
            ]
          },
          "metadata": {},
          "execution_count": 3
        }
      ]
    },
    {
      "cell_type": "code",
      "source": [
        "tripData = sc.textFile(\"trips.csv\")\n",
        "# запомним заголовок, чтобы затем его исключить из данных\n",
        "tripsHeader = tripData.first()\n",
        "trips = tripData.filter(lambda row: row != tripsHeader).map(lambda row: row.split(\",\", -1))\n",
        "\n",
        "stationData = sc.textFile(\"stations.csv\")\n",
        "stationsHeader = stationData.first()\n",
        "stations = stationData.filter(lambda row: row != stationsHeader).map(lambda row: row.split(\",\", -1))"
      ],
      "metadata": {
        "id": "vms03tcexGt0"
      },
      "execution_count": 4,
      "outputs": []
    },
    {
      "cell_type": "code",
      "source": [
        "stationData.take(5)"
      ],
      "metadata": {
        "colab": {
          "base_uri": "https://localhost:8080/"
        },
        "id": "D8KBTHx3zY1R",
        "outputId": "4f5ee0b7-5498-4b80-9e7e-18d15d3102a3"
      },
      "execution_count": 5,
      "outputs": [
        {
          "output_type": "execute_result",
          "data": {
            "text/plain": [
              "['id,name,lat,long,dock_count,city,installation_date',\n",
              " '2,San Jose Diridon Caltrain Station,37.329732,-121.90178200000001,27,San Jose,8/6/2013',\n",
              " '3,San Jose Civic Center,37.330698,-121.888979,15,San Jose,8/5/2013',\n",
              " '4,Santa Clara at Almaden,37.333988,-121.894902,11,San Jose,8/6/2013',\n",
              " '5,Adobe on Almaden,37.331415,-121.8932,19,San Jose,8/5/2013']"
            ]
          },
          "metadata": {},
          "execution_count": 5
        }
      ]
    },
    {
      "cell_type": "code",
      "source": [
        "stations.take(5)"
      ],
      "metadata": {
        "colab": {
          "base_uri": "https://localhost:8080/"
        },
        "id": "ej7YMsY2cJra",
        "outputId": "57687298-dfb9-4482-868f-a4e329d02670"
      },
      "execution_count": 6,
      "outputs": [
        {
          "output_type": "execute_result",
          "data": {
            "text/plain": [
              "[['2',\n",
              "  'San Jose Diridon Caltrain Station',\n",
              "  '37.329732',\n",
              "  '-121.90178200000001',\n",
              "  '27',\n",
              "  'San Jose',\n",
              "  '8/6/2013'],\n",
              " ['3',\n",
              "  'San Jose Civic Center',\n",
              "  '37.330698',\n",
              "  '-121.888979',\n",
              "  '15',\n",
              "  'San Jose',\n",
              "  '8/5/2013'],\n",
              " ['4',\n",
              "  'Santa Clara at Almaden',\n",
              "  '37.333988',\n",
              "  '-121.894902',\n",
              "  '11',\n",
              "  'San Jose',\n",
              "  '8/6/2013'],\n",
              " ['5',\n",
              "  'Adobe on Almaden',\n",
              "  '37.331415',\n",
              "  '-121.8932',\n",
              "  '19',\n",
              "  'San Jose',\n",
              "  '8/5/2013'],\n",
              " ['6',\n",
              "  'San Pedro Square',\n",
              "  '37.336721000000004',\n",
              "  '-121.894074',\n",
              "  '15',\n",
              "  'San Jose',\n",
              "  '8/7/2013']]"
            ]
          },
          "metadata": {},
          "execution_count": 6
        }
      ]
    },
    {
      "cell_type": "code",
      "source": [
        "tripData.take(5)"
      ],
      "metadata": {
        "colab": {
          "base_uri": "https://localhost:8080/"
        },
        "id": "N05Xc--h0zFf",
        "outputId": "61d6cf0d-6bec-4672-c05d-b99d0e776bda"
      },
      "execution_count": 7,
      "outputs": [
        {
          "output_type": "execute_result",
          "data": {
            "text/plain": [
              "['id,duration,start_date,start_station_name,start_station_id,end_date,end_station_name,end_station_id,bike_id,subscription_type,zip_code',\n",
              " '4576,63,,South Van Ness at Market,66,8/29/2013 14:14,South Van Ness at Market,66,520,Subscriber,94127',\n",
              " '4607,,8/29/2013 14:42,San Jose City Hall,10,8/29/2013 14:43,San Jose City Hall,10,661,Subscriber,95138',\n",
              " '4130,71,8/29/2013 10:16,Mountain View City Hall,27,8/29/2013 10:17,Mountain View City Hall,27,48,Subscriber,97214',\n",
              " '4251,77,8/29/2013 11:29,San Jose City Hall,10,8/29/2013 11:30,San Jose City Hall,10,26,Subscriber,95060']"
            ]
          },
          "metadata": {},
          "execution_count": 7
        }
      ]
    },
    {
      "cell_type": "code",
      "source": [
        "trips.take(5)"
      ],
      "metadata": {
        "colab": {
          "base_uri": "https://localhost:8080/"
        },
        "id": "brVOWRw_3c_l",
        "outputId": "b74b7b79-4da1-42f6-c0fd-8d079326d648"
      },
      "execution_count": 8,
      "outputs": [
        {
          "output_type": "execute_result",
          "data": {
            "text/plain": [
              "[['4576',\n",
              "  '63',\n",
              "  '',\n",
              "  'South Van Ness at Market',\n",
              "  '66',\n",
              "  '8/29/2013 14:14',\n",
              "  'South Van Ness at Market',\n",
              "  '66',\n",
              "  '520',\n",
              "  'Subscriber',\n",
              "  '94127'],\n",
              " ['4607',\n",
              "  '',\n",
              "  '8/29/2013 14:42',\n",
              "  'San Jose City Hall',\n",
              "  '10',\n",
              "  '8/29/2013 14:43',\n",
              "  'San Jose City Hall',\n",
              "  '10',\n",
              "  '661',\n",
              "  'Subscriber',\n",
              "  '95138'],\n",
              " ['4130',\n",
              "  '71',\n",
              "  '8/29/2013 10:16',\n",
              "  'Mountain View City Hall',\n",
              "  '27',\n",
              "  '8/29/2013 10:17',\n",
              "  'Mountain View City Hall',\n",
              "  '27',\n",
              "  '48',\n",
              "  'Subscriber',\n",
              "  '97214'],\n",
              " ['4251',\n",
              "  '77',\n",
              "  '8/29/2013 11:29',\n",
              "  'San Jose City Hall',\n",
              "  '10',\n",
              "  '8/29/2013 11:30',\n",
              "  'San Jose City Hall',\n",
              "  '10',\n",
              "  '26',\n",
              "  'Subscriber',\n",
              "  '95060'],\n",
              " ['4299',\n",
              "  '83',\n",
              "  '8/29/2013 12:02',\n",
              "  'South Van Ness at Market',\n",
              "  '66',\n",
              "  '8/29/2013 12:04',\n",
              "  'Market at 10th',\n",
              "  '67',\n",
              "  '319',\n",
              "  'Subscriber',\n",
              "  '94103']]"
            ]
          },
          "metadata": {},
          "execution_count": 8
        }
      ]
    },
    {
      "cell_type": "code",
      "source": [
        "def initStation(stations):\n",
        "    class Station(NamedTuple):\n",
        "        station_id: int\n",
        "        name: str\n",
        "        lat: float\n",
        "        long: float\n",
        "        dockcount: int\n",
        "        landmark: str\n",
        "        installation: str\n",
        "\n",
        "    for station in stations:\n",
        "        yield Station(\n",
        "            station_id = int(station[0]),\n",
        "            name = station[1],\n",
        "            lat = float(station[2]),\n",
        "            long = float(station[3]),\n",
        "            dockcount = int(station[4]),\n",
        "            landmark = station[5],\n",
        "            installation = datetime.strptime(station[6], '%m/%d/%Y')\n",
        "        )\n",
        "\n",
        "def initTrip(trips):\n",
        "    class Trip(NamedTuple):\n",
        "        trip_id: int\n",
        "        duration: int\n",
        "        start_date: datetime\n",
        "        start_station_name: str\n",
        "        start_station_id: int\n",
        "        end_date: datetime\n",
        "        end_station_name: str\n",
        "        end_station_id: int\n",
        "        bike_id: int\n",
        "        subscription_type: str\n",
        "        zip_code: str\n",
        "\n",
        "    for trip in trips:\n",
        "        try:\n",
        "            yield Trip(\n",
        "             trip_id = int(trip[0]),\n",
        "             duration = int(trip[1]),\n",
        "             start_date = datetime.strptime(trip[2], '%m/%d/%Y %H:%M'),\n",
        "             start_station_name = trip[3],\n",
        "             start_station_id = int(trip[4]),\n",
        "             end_date = datetime.strptime(trip[5], '%m/%d/%Y %H:%M'),\n",
        "             end_station_name = trip[6],\n",
        "             end_station_id = trip[7],\n",
        "             bike_id = int(trip[8]),\n",
        "             subscription_type = trip[9],\n",
        "             zip_code = trip[10]\n",
        "            )\n",
        "        except:\n",
        "            pass"
      ],
      "metadata": {
        "id": "GPuQHMa9tasW"
      },
      "execution_count": 9,
      "outputs": []
    },
    {
      "cell_type": "code",
      "source": [
        "stationsInternal = stations.mapPartitions(initStation)\n",
        "tripsInternal = trips.mapPartitions(initTrip)"
      ],
      "metadata": {
        "id": "spVqTX2JwYaR"
      },
      "execution_count": 10,
      "outputs": []
    },
    {
      "cell_type": "code",
      "source": [
        "stationsInternal.first()"
      ],
      "metadata": {
        "colab": {
          "base_uri": "https://localhost:8080/"
        },
        "id": "1AVy2jnht7g7",
        "outputId": "2e39ce04-98dc-43f0-e717-1f644ca29441"
      },
      "execution_count": 11,
      "outputs": [
        {
          "output_type": "execute_result",
          "data": {
            "text/plain": [
              "Station(station_id=2, name='San Jose Diridon Caltrain Station', lat=37.329732, long=-121.90178200000001, dockcount=27, landmark='San Jose', installation=datetime.datetime(2013, 8, 6, 0, 0))"
            ]
          },
          "metadata": {},
          "execution_count": 11
        }
      ]
    },
    {
      "cell_type": "code",
      "source": [
        "tripsInternal.first()"
      ],
      "metadata": {
        "colab": {
          "base_uri": "https://localhost:8080/"
        },
        "id": "JGrrUJN805CM",
        "outputId": "cf444c9e-616d-4bd5-9211-544b076a3167"
      },
      "execution_count": 12,
      "outputs": [
        {
          "output_type": "execute_result",
          "data": {
            "text/plain": [
              "Trip(trip_id=4130, duration=71, start_date=datetime.datetime(2013, 8, 29, 10, 16), start_station_name='Mountain View City Hall', start_station_id=27, end_date=datetime.datetime(2013, 8, 29, 10, 17), end_station_name='Mountain View City Hall', end_station_id='27', bike_id=48, subscription_type='Subscriber', zip_code='97214')"
            ]
          },
          "metadata": {},
          "execution_count": 12
        }
      ]
    },
    {
      "cell_type": "markdown",
      "source": [
        "# 1. Найти велосипед с максимальным временем пробега."
      ],
      "metadata": {
        "id": "mu7ZRvJc59s4"
      }
    },
    {
      "cell_type": "code",
      "source": [
        "bike_with_longest_duration = tripsInternal.keyBy(lambda trip: trip.bike_id) \\\n",
        "  .mapValues(lambda trip: trip.duration) \\\n",
        "  .reduceByKey(lambda firstDuration, secondDuration: firstDuration + secondDuration) \\\n",
        "  .sortBy(lambda trip: trip[1], ascending=False) \\\n",
        "  .first()\n",
        "\n",
        "print(f'Bike: {bike_with_longest_duration[0]} - time: {bike_with_longest_duration[1]}')"
      ],
      "metadata": {
        "colab": {
          "base_uri": "https://localhost:8080/"
        },
        "id": "VupbI7yS6gJU",
        "outputId": "ff266a45-c99d-4512-e5cb-344855c8b63f"
      },
      "execution_count": 13,
      "outputs": [
        {
          "output_type": "stream",
          "name": "stdout",
          "text": [
            "Bike: 535 - time: 18611693\n"
          ]
        }
      ]
    },
    {
      "cell_type": "markdown",
      "source": [
        "# 2. Найти наибольшее геодезическое расстояние между станциями.\n",
        "\n"
      ],
      "metadata": {
        "id": "BEVWmmXZ8pv_"
      }
    },
    {
      "cell_type": "code",
      "source": [
        "import math\n",
        "\n",
        "def distance(a, b):\n",
        "  #pi - число pi, rad - радиус сферы (Земли)\n",
        "  rad = 6372\n",
        "\n",
        "  # в радианах\n",
        "  lat1  = a.lat  * math.pi / 180.\n",
        "  lat2  = b.lat  * math.pi / 180.\n",
        "  long1 = a.long * math.pi / 180.\n",
        "  long2 = b.long * math.pi / 180.\n",
        "\n",
        "  # косинусы и синусы широт и разницы долгот\n",
        "  cl1 = math.cos(lat1)\n",
        "  cl2 = math.cos(lat2)\n",
        "  sl1 = math.sin(lat1)\n",
        "  sl2 = math.sin(lat2)\n",
        "  delta = long2 - long1\n",
        "  cdelta = math.cos(delta)\n",
        "  sdelta = math.sin(delta)\n",
        "\n",
        "  # вычисления длины большого круга\n",
        "  y = math.sqrt(math.pow(cl2 * sdelta, 2) + math.pow(cl1 * sl2 - sl1 * cl2 * cdelta,2))\n",
        "  x = sl1 * sl2 + cl1 * cl2 * cdelta\n",
        "  ad = math.atan2(y, x)\n",
        "  dist = ad * rad\n",
        "  return dist\n",
        "\n",
        "res = stationsInternal.cartesian(stationsInternal) \\\n",
        "  .map(lambda pair: (pair[0].name, pair[1].name, distance(pair[0], pair[1]))) \\\n",
        "  .sortBy(lambda station: station[2], ascending=False) \\\n",
        "  .first()\n",
        "\n",
        "res[2]"
      ],
      "metadata": {
        "id": "s9CYYbw38mYu",
        "colab": {
          "base_uri": "https://localhost:8080/"
        },
        "outputId": "029e2d2f-359e-4bc5-b260-7331b7e90a62"
      },
      "execution_count": 14,
      "outputs": [
        {
          "output_type": "execute_result",
          "data": {
            "text/plain": [
              "69.9318508210141"
            ]
          },
          "metadata": {},
          "execution_count": 14
        }
      ]
    },
    {
      "cell_type": "markdown",
      "source": [
        "# 3. Найти путь велосипеда с максимальным временем пробега через станции."
      ],
      "metadata": {
        "id": "zqk6mdxpfgks"
      }
    },
    {
      "cell_type": "code",
      "source": [
        "path = tripsInternal.filter(lambda trip: trip.bike_id == bike_with_longest_duration[0]) \\\n",
        "  .sortBy(lambda trip: trip.start_date) \\\n",
        "  .take(10)\n",
        "\n",
        "for p in path:\n",
        "  print(p.start_station_name)"
      ],
      "metadata": {
        "colab": {
          "base_uri": "https://localhost:8080/"
        },
        "id": "qwip8DP9fm9-",
        "outputId": "d5f30ffc-65f7-44c1-cff4-4d764b1e8106"
      },
      "execution_count": 15,
      "outputs": [
        {
          "output_type": "stream",
          "name": "stdout",
          "text": [
            "Post at Kearney\n",
            "San Francisco Caltrain (Townsend at 4th)\n",
            "San Francisco Caltrain 2 (330 Townsend)\n",
            "Market at Sansome\n",
            "2nd at Townsend\n",
            "San Francisco City Hall\n",
            "Civic Center BART (7th at Market)\n",
            "Post at Kearney\n",
            "Embarcadero at Sansome\n",
            "Washington at Kearney\n"
          ]
        }
      ]
    },
    {
      "cell_type": "markdown",
      "source": [
        "# 4. Найти количество велосипедов в системе."
      ],
      "metadata": {
        "id": "wo0vc5_Pfq0I"
      }
    },
    {
      "cell_type": "code",
      "source": [
        "cycles = tripsInternal.map(lambda trip: trip.bike_id) \\\n",
        "  .distinct() \\\n",
        "  .count()\n",
        "\n",
        "cycles"
      ],
      "metadata": {
        "colab": {
          "base_uri": "https://localhost:8080/"
        },
        "id": "p6NheTXPfrf0",
        "outputId": "11eb52d5-c40b-4535-d4de-1bf59ed70ecd"
      },
      "execution_count": 16,
      "outputs": [
        {
          "output_type": "execute_result",
          "data": {
            "text/plain": [
              "700"
            ]
          },
          "metadata": {},
          "execution_count": 16
        }
      ]
    },
    {
      "cell_type": "markdown",
      "source": [
        "# 5. Найти пользователей потративших на поездки более 3 часов."
      ],
      "metadata": {
        "id": "R9Jxn33BfusD"
      }
    },
    {
      "cell_type": "code",
      "source": [
        "users = tripsInternal \\\n",
        "  .filter(lambda x: x.duration > (3 * 60 * 60))\\\n",
        "  .map(lambda x: x.zip_code)\\\n",
        "  .filter(lambda x: x != \"\")\\\n",
        "  .distinct()\n",
        "\n",
        "users.take(10)"
      ],
      "metadata": {
        "colab": {
          "base_uri": "https://localhost:8080/"
        },
        "id": "O8HEzCWafFUT",
        "outputId": "5b0ad55c-7f2d-41f8-bf47-2359891a1b41"
      },
      "execution_count": 17,
      "outputs": [
        {
          "output_type": "execute_result",
          "data": {
            "text/plain": [
              "['58553',\n",
              " '94301',\n",
              " '94039',\n",
              " '94133',\n",
              " '93726',\n",
              " '94123',\n",
              " '4517',\n",
              " '29200',\n",
              " '45322',\n",
              " '94080']"
            ]
          },
          "metadata": {},
          "execution_count": 17
        }
      ]
    }
  ]
}